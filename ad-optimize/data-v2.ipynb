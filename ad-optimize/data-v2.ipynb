{
 "cells": [
  {
   "cell_type": "code",
   "execution_count": 1,
   "id": "1fc27dc8",
   "metadata": {},
   "outputs": [
    {
     "name": "stdout",
     "output_type": "stream",
     "text": [
      "ads-daily.xlsx\n",
      "ads-hourly.xlsx\n",
      "数据提供-广告：AmazonAllListingReport.xlsx\n",
      "数据提供-广告：AmazonMachingProductForSk....xlsx\n",
      "数据提供-广告：日销数据.xlsx\n",
      "数据提供-广告：活动数据.xlsx\n",
      "数据提供-广告：销售数据-小时粒度.xlsx\n"
     ]
    }
   ],
   "source": [
    "!ls ../data-advertisement-datav2/"
   ]
  },
  {
   "cell_type": "code",
   "execution_count": 2,
   "id": "d8aaeb04",
   "metadata": {},
   "outputs": [],
   "source": [
    "import pandas as pd\n",
    "import numpy as np"
   ]
  },
  {
   "cell_type": "markdown",
   "id": "d19ba15a",
   "metadata": {},
   "source": [
    "# load data"
   ]
  },
  {
   "cell_type": "code",
   "execution_count": 3,
   "id": "14a9b3b7",
   "metadata": {},
   "outputs": [
    {
     "name": "stdout",
     "output_type": "stream",
     "text": [
      "CPU times: user 1min 26s, sys: 283 ms, total: 1min 27s\n",
      "Wall time: 1min 27s\n"
     ]
    }
   ],
   "source": [
    "%%time\n",
    "\n",
    "#daily ads data\n",
    "df_adv_daily = pd.read_excel('../data-advertisement-datav2/ads-daily.xlsx',engine = \"openpyxl\")"
   ]
  },
  {
   "cell_type": "code",
   "execution_count": 4,
   "id": "94b6fedf",
   "metadata": {},
   "outputs": [
    {
     "name": "stdout",
     "output_type": "stream",
     "text": [
      "CPU times: user 1min 39s, sys: 132 ms, total: 1min 39s\n",
      "Wall time: 1min 39s\n"
     ]
    }
   ],
   "source": [
    "%%time\n",
    "#2-hour ads data\n",
    "df_adv_hourly = pd.read_excel('../data-advertisement-datav2/ads-hourly.xlsx',engine = \"openpyxl\")"
   ]
  },
  {
   "cell_type": "code",
   "execution_count": 5,
   "id": "f553d522",
   "metadata": {},
   "outputs": [
    {
     "name": "stdout",
     "output_type": "stream",
     "text": [
      "CPU times: user 40.4 s, sys: 28 ms, total: 40.4 s\n",
      "Wall time: 40.4 s\n"
     ]
    }
   ],
   "source": [
    "%%time\n",
    "#product info\n",
    "product_info_1 = pd.read_excel('../data-advertisement-datav2/数据提供-广告：AmazonAllListingReport.xlsx',engine = \"openpyxl\")\n",
    "product_info_2 = pd.read_excel('../data-advertisement-datav2/数据提供-广告：AmazonMachingProductForSk....xlsx',engine = \"openpyxl\")"
   ]
  },
  {
   "cell_type": "code",
   "execution_count": 6,
   "id": "75a9e470",
   "metadata": {},
   "outputs": [
    {
     "name": "stdout",
     "output_type": "stream",
     "text": [
      "CPU times: user 671 ms, sys: 0 ns, total: 671 ms\n",
      "Wall time: 670 ms\n"
     ]
    }
   ],
   "source": [
    "%%time\n",
    "#sales info\n",
    "sales_daily = pd.read_excel('../data-advertisement-datav2/数据提供-广告：日销数据.xlsx',engine = \"openpyxl\")\n",
    "sales_hourly = pd.read_excel('../data-advertisement-datav2/数据提供-广告：销售数据-小时粒度.xlsx',engine = \"openpyxl\")"
   ]
  },
  {
   "cell_type": "code",
   "execution_count": 7,
   "id": "d447da68",
   "metadata": {},
   "outputs": [
    {
     "name": "stdout",
     "output_type": "stream",
     "text": [
      "CPU times: user 215 ms, sys: 0 ns, total: 215 ms\n",
      "Wall time: 213 ms\n"
     ]
    }
   ],
   "source": [
    "%%time\n",
    "#campaign data\n",
    "df_campaign = pd.read_excel('../data-advertisement-datav2/数据提供-广告：活动数据.xlsx',engine = \"openpyxl\")"
   ]
  },
  {
   "cell_type": "code",
   "execution_count": 8,
   "id": "75faa1a3",
   "metadata": {},
   "outputs": [
    {
     "name": "stdout",
     "output_type": "stream",
     "text": [
      "CPU times: user 1.83 s, sys: 184 ms, total: 2.01 s\n",
      "Wall time: 1.49 s\n"
     ]
    }
   ],
   "source": [
    "%%time\n",
    "#keyword data\n",
    "data_keyword_old_ranking = pd.read_csv('../aws-v1/asin旧关键词排名.csv',encoding='gbk')\n",
    "data_keyword = pd.read_csv('../aws-v1/asin关键词排名.csv')"
   ]
  },
  {
   "cell_type": "markdown",
   "id": "eb1cff81",
   "metadata": {},
   "source": [
    "# process data (daily)"
   ]
  },
  {
   "cell_type": "code",
   "execution_count": 13,
   "id": "619c89bd",
   "metadata": {},
   "outputs": [
    {
     "data": {
      "text/html": [
       "<div>\n",
       "<style scoped>\n",
       "    .dataframe tbody tr th:only-of-type {\n",
       "        vertical-align: middle;\n",
       "    }\n",
       "\n",
       "    .dataframe tbody tr th {\n",
       "        vertical-align: top;\n",
       "    }\n",
       "\n",
       "    .dataframe thead th {\n",
       "        text-align: right;\n",
       "    }\n",
       "</style>\n",
       "<table border=\"1\" class=\"dataframe\">\n",
       "  <thead>\n",
       "    <tr style=\"text-align: right;\">\n",
       "      <th></th>\n",
       "      <th>ID</th>\n",
       "      <th>AccountId</th>\n",
       "      <th>RequestDate</th>\n",
       "      <th>CampaignName</th>\n",
       "      <th>CampaignId</th>\n",
       "      <th>AdGroupName</th>\n",
       "      <th>AdGroupId</th>\n",
       "      <th>TargetId</th>\n",
       "      <th>TargetingText</th>\n",
       "      <th>TargetingType</th>\n",
       "      <th>...</th>\n",
       "      <th>AttributedSales30dSameSKU</th>\n",
       "      <th>AttributedUnitsOrdered1dSameSKU</th>\n",
       "      <th>AttributedUnitsOrdered7dSameSKU</th>\n",
       "      <th>AttributedUnitsOrdered14dSameSKU</th>\n",
       "      <th>AttributedUnitsOrdered30dSameSKU</th>\n",
       "      <th>AttributedKindleEditionNormalizedPagesRead14d</th>\n",
       "      <th>AttributedKindleEditionNormalizedPagesRoyalties14d</th>\n",
       "      <th>AdType</th>\n",
       "      <th>delFlag</th>\n",
       "      <th>asin_k</th>\n",
       "    </tr>\n",
       "  </thead>\n",
       "  <tbody>\n",
       "    <tr>\n",
       "      <th>0</th>\n",
       "      <td>1497465</td>\n",
       "      <td>1029</td>\n",
       "      <td>2021-10-12</td>\n",
       "      <td>A.Shirley.B2BAI0651.Heater.1012</td>\n",
       "      <td>101699121359424</td>\n",
       "      <td>auto</td>\n",
       "      <td>117695687755035</td>\n",
       "      <td>259976381901269</td>\n",
       "      <td>close-match</td>\n",
       "      <td>TARGETING_EXPRESSION_PREDEFINED</td>\n",
       "      <td>...</td>\n",
       "      <td>69.99</td>\n",
       "      <td>1.0</td>\n",
       "      <td>1.0</td>\n",
       "      <td>1.0</td>\n",
       "      <td>1.0</td>\n",
       "      <td>NaT</td>\n",
       "      <td>NaT</td>\n",
       "      <td>SP</td>\n",
       "      <td>0</td>\n",
       "      <td>EE24118F-992D-4979-BF2A-4305B7B0A690</td>\n",
       "    </tr>\n",
       "    <tr>\n",
       "      <th>1</th>\n",
       "      <td>1497466</td>\n",
       "      <td>1029</td>\n",
       "      <td>2021-10-12</td>\n",
       "      <td>A.Shirley.B2BAI0651.Heater.1012</td>\n",
       "      <td>101699121359424</td>\n",
       "      <td>auto</td>\n",
       "      <td>117695687755035</td>\n",
       "      <td>259976381901269</td>\n",
       "      <td>close-match</td>\n",
       "      <td>TARGETING_EXPRESSION_PREDEFINED</td>\n",
       "      <td>...</td>\n",
       "      <td>0.00</td>\n",
       "      <td>0.0</td>\n",
       "      <td>0.0</td>\n",
       "      <td>0.0</td>\n",
       "      <td>0.0</td>\n",
       "      <td>NaT</td>\n",
       "      <td>NaT</td>\n",
       "      <td>SP</td>\n",
       "      <td>0</td>\n",
       "      <td>EE24118F-992D-4979-BF2A-4305B7B0A690</td>\n",
       "    </tr>\n",
       "    <tr>\n",
       "      <th>2</th>\n",
       "      <td>1497467</td>\n",
       "      <td>1029</td>\n",
       "      <td>2021-10-12</td>\n",
       "      <td>A.Shirley.B2BAI0651.Heater.1012</td>\n",
       "      <td>101699121359424</td>\n",
       "      <td>auto</td>\n",
       "      <td>117695687755035</td>\n",
       "      <td>259976381901269</td>\n",
       "      <td>close-match</td>\n",
       "      <td>TARGETING_EXPRESSION_PREDEFINED</td>\n",
       "      <td>...</td>\n",
       "      <td>0.00</td>\n",
       "      <td>0.0</td>\n",
       "      <td>0.0</td>\n",
       "      <td>0.0</td>\n",
       "      <td>0.0</td>\n",
       "      <td>NaT</td>\n",
       "      <td>NaT</td>\n",
       "      <td>SP</td>\n",
       "      <td>0</td>\n",
       "      <td>EE24118F-992D-4979-BF2A-4305B7B0A690</td>\n",
       "    </tr>\n",
       "    <tr>\n",
       "      <th>3</th>\n",
       "      <td>1497468</td>\n",
       "      <td>1029</td>\n",
       "      <td>2021-10-12</td>\n",
       "      <td>A.Shirley.B2BAI0651.Heater.1012</td>\n",
       "      <td>101699121359424</td>\n",
       "      <td>auto</td>\n",
       "      <td>117695687755035</td>\n",
       "      <td>259976381901269</td>\n",
       "      <td>close-match</td>\n",
       "      <td>TARGETING_EXPRESSION_PREDEFINED</td>\n",
       "      <td>...</td>\n",
       "      <td>0.00</td>\n",
       "      <td>0.0</td>\n",
       "      <td>0.0</td>\n",
       "      <td>0.0</td>\n",
       "      <td>0.0</td>\n",
       "      <td>NaT</td>\n",
       "      <td>NaT</td>\n",
       "      <td>SP</td>\n",
       "      <td>0</td>\n",
       "      <td>EE24118F-992D-4979-BF2A-4305B7B0A690</td>\n",
       "    </tr>\n",
       "    <tr>\n",
       "      <th>4</th>\n",
       "      <td>1497469</td>\n",
       "      <td>1029</td>\n",
       "      <td>2021-10-12</td>\n",
       "      <td>A.Shirley.B2BAI0651.Heater.1012</td>\n",
       "      <td>101699121359424</td>\n",
       "      <td>auto</td>\n",
       "      <td>117695687755035</td>\n",
       "      <td>259976381901269</td>\n",
       "      <td>close-match</td>\n",
       "      <td>TARGETING_EXPRESSION_PREDEFINED</td>\n",
       "      <td>...</td>\n",
       "      <td>0.00</td>\n",
       "      <td>0.0</td>\n",
       "      <td>0.0</td>\n",
       "      <td>0.0</td>\n",
       "      <td>0.0</td>\n",
       "      <td>NaT</td>\n",
       "      <td>NaT</td>\n",
       "      <td>SP</td>\n",
       "      <td>0</td>\n",
       "      <td>EE24118F-992D-4979-BF2A-4305B7B0A690</td>\n",
       "    </tr>\n",
       "  </tbody>\n",
       "</table>\n",
       "<p>5 rows × 44 columns</p>\n",
       "</div>"
      ],
      "text/plain": [
       "        ID  AccountId RequestDate                     CampaignName  \\\n",
       "0  1497465       1029  2021-10-12  A.Shirley.B2BAI0651.Heater.1012   \n",
       "1  1497466       1029  2021-10-12  A.Shirley.B2BAI0651.Heater.1012   \n",
       "2  1497467       1029  2021-10-12  A.Shirley.B2BAI0651.Heater.1012   \n",
       "3  1497468       1029  2021-10-12  A.Shirley.B2BAI0651.Heater.1012   \n",
       "4  1497469       1029  2021-10-12  A.Shirley.B2BAI0651.Heater.1012   \n",
       "\n",
       "        CampaignId AdGroupName        AdGroupId         TargetId  \\\n",
       "0  101699121359424        auto  117695687755035  259976381901269   \n",
       "1  101699121359424        auto  117695687755035  259976381901269   \n",
       "2  101699121359424        auto  117695687755035  259976381901269   \n",
       "3  101699121359424        auto  117695687755035  259976381901269   \n",
       "4  101699121359424        auto  117695687755035  259976381901269   \n",
       "\n",
       "  TargetingText                    TargetingType  ...  \\\n",
       "0   close-match  TARGETING_EXPRESSION_PREDEFINED  ...   \n",
       "1   close-match  TARGETING_EXPRESSION_PREDEFINED  ...   \n",
       "2   close-match  TARGETING_EXPRESSION_PREDEFINED  ...   \n",
       "3   close-match  TARGETING_EXPRESSION_PREDEFINED  ...   \n",
       "4   close-match  TARGETING_EXPRESSION_PREDEFINED  ...   \n",
       "\n",
       "  AttributedSales30dSameSKU AttributedUnitsOrdered1dSameSKU  \\\n",
       "0                     69.99                             1.0   \n",
       "1                      0.00                             0.0   \n",
       "2                      0.00                             0.0   \n",
       "3                      0.00                             0.0   \n",
       "4                      0.00                             0.0   \n",
       "\n",
       "   AttributedUnitsOrdered7dSameSKU  AttributedUnitsOrdered14dSameSKU  \\\n",
       "0                              1.0                               1.0   \n",
       "1                              0.0                               0.0   \n",
       "2                              0.0                               0.0   \n",
       "3                              0.0                               0.0   \n",
       "4                              0.0                               0.0   \n",
       "\n",
       "   AttributedUnitsOrdered30dSameSKU  \\\n",
       "0                               1.0   \n",
       "1                               0.0   \n",
       "2                               0.0   \n",
       "3                               0.0   \n",
       "4                               0.0   \n",
       "\n",
       "   AttributedKindleEditionNormalizedPagesRead14d  \\\n",
       "0                                            NaT   \n",
       "1                                            NaT   \n",
       "2                                            NaT   \n",
       "3                                            NaT   \n",
       "4                                            NaT   \n",
       "\n",
       "   AttributedKindleEditionNormalizedPagesRoyalties14d  AdType  delFlag  \\\n",
       "0                                                NaT       SP        0   \n",
       "1                                                NaT       SP        0   \n",
       "2                                                NaT       SP        0   \n",
       "3                                                NaT       SP        0   \n",
       "4                                                NaT       SP        0   \n",
       "\n",
       "                                 asin_k  \n",
       "0  EE24118F-992D-4979-BF2A-4305B7B0A690  \n",
       "1  EE24118F-992D-4979-BF2A-4305B7B0A690  \n",
       "2  EE24118F-992D-4979-BF2A-4305B7B0A690  \n",
       "3  EE24118F-992D-4979-BF2A-4305B7B0A690  \n",
       "4  EE24118F-992D-4979-BF2A-4305B7B0A690  \n",
       "\n",
       "[5 rows x 44 columns]"
      ]
     },
     "execution_count": 13,
     "metadata": {},
     "output_type": "execute_result"
    }
   ],
   "source": [
    "df_adv_daily.head()"
   ]
  },
  {
   "cell_type": "code",
   "execution_count": 10,
   "id": "bacf513d",
   "metadata": {},
   "outputs": [
    {
     "data": {
      "text/plain": [
       "ID                                                                                 1497465\n",
       "AccountId                                                                             1029\n",
       "RequestDate                                                            2021-10-12 00:00:00\n",
       "CampaignName                                               A.Shirley.B2BAI0651.Heater.1012\n",
       "CampaignId                                                                 101699121359424\n",
       "AdGroupName                                                                           auto\n",
       "AdGroupId                                                                  117695687755035\n",
       "TargetId                                                                   259976381901269\n",
       "TargetingText                                                                  close-match\n",
       "TargetingType                                              TARGETING_EXPRESSION_PREDEFINED\n",
       "TargetingExpression                                                            close-match\n",
       "Query                                                                    air choice heater\n",
       "Impressions                                                                             10\n",
       "Clicks                                                                                   1\n",
       "Cost                                                                                  0.94\n",
       "AttributedConversions1d                                                                  1\n",
       "AttributedConversions7d                                                                  1\n",
       "AttributedConversions14d                                                                 1\n",
       "AttributedConversions30d                                                                 1\n",
       "AttributedConversions1dSameSKU                                                           1\n",
       "AttributedConversions7dSameSKU                                                           1\n",
       "AttributedConversions14dSameSKU                                                          1\n",
       "AttributedConversions30dSameSKU                                                          1\n",
       "AttributedUnitsOrdered1d                                                                 1\n",
       "AttributedUnitsOrdered7d                                                                 1\n",
       "AttributedUnitsOrdered14d                                                                1\n",
       "AttributedUnitsOrdered30d                                                                1\n",
       "AttributedSales1d                                                                    69.99\n",
       "AttributedSales7d                                                                    69.99\n",
       "AttributedSales14d                                                                   69.99\n",
       "AttributedSales30d                                                                   69.99\n",
       "AttributedSales1dSameSKU                                                             69.99\n",
       "AttributedSales7dSameSKU                                                             69.99\n",
       "AttributedSales14dSameSKU                                                            69.99\n",
       "AttributedSales30dSameSKU                                                            69.99\n",
       "AttributedUnitsOrdered1dSameSKU                                                          1\n",
       "AttributedUnitsOrdered7dSameSKU                                                          1\n",
       "AttributedUnitsOrdered14dSameSKU                                                         1\n",
       "AttributedUnitsOrdered30dSameSKU                                                         1\n",
       "AttributedKindleEditionNormalizedPagesRead14d                                          NaT\n",
       "AttributedKindleEditionNormalizedPagesRoyalties14d                                     NaT\n",
       "AdType                                                                                  SP\n",
       "delFlag                                                                                  0\n",
       "asin_k                                                EE24118F-992D-4979-BF2A-4305B7B0A690\n",
       "Name: 0, dtype: object"
      ]
     },
     "execution_count": 10,
     "metadata": {},
     "output_type": "execute_result"
    }
   ],
   "source": [
    "df_adv_daily.iloc[0,:]"
   ]
  },
  {
   "cell_type": "code",
   "execution_count": 11,
   "id": "6a82aa2c",
   "metadata": {},
   "outputs": [
    {
     "name": "stdout",
     "output_type": "stream",
     "text": [
      "min time 2021-02-22 00:00:00, max time 2022-05-19 00:00:00\n",
      "total data shape: (132498, 44)\n",
      "by type distribution: sp 107900, sb0 sd0 sbv0 nan0\n",
      "total ID number:  132498\n",
      "total asin_k number:  117\n"
     ]
    }
   ],
   "source": [
    "def process_general_info(data_ad):\n",
    "    print (\"min time {}, max time {}\".format(data_ad['RequestDate'].min(),data_ad['RequestDate'].max()))\n",
    "    print (\"total data shape: {}\".format(data_ad.shape))\n",
    "    print (\"by type distribution: sp {}, sb{} sd{} sbv{} nan{}\".format(\n",
    "           len(data_ad[data_ad['AdType']=='SP']),\\\n",
    "           len(data_ad[data_ad['AdType']=='SB']),\\\n",
    "           len(data_ad[data_ad['AdType']=='SD']),\\\n",
    "           len(data_ad[data_ad['AdType']=='SBV']),\\\n",
    "           len(data_ad[data_ad['AdType']=='nan'])\n",
    "          ))\n",
    "    #print (\"total asin number: \", data_ad['Asin'].nunique())\n",
    "    print (\"total ID number: \", data_ad['ID'].nunique())\n",
    "    print (\"total asin_k number: \", data_ad['asin_k'].nunique())\n",
    "\n",
    "process_general_info(df_adv_daily)"
   ]
  },
  {
   "cell_type": "code",
   "execution_count": 12,
   "id": "c0e3ce0e",
   "metadata": {},
   "outputs": [
    {
     "name": "stdout",
     "output_type": "stream",
     "text": [
      "total asin number 118 matching number46 \n"
     ]
    }
   ],
   "source": [
    "# join sales infor\n",
    "def judge_asin_match(df1,df2, asin1,asin2):\n",
    "    list1 = df1[asin1].unique()\n",
    "    list2 = df2[asin2].unique()\n",
    "    #asin match\n",
    "    res = [v for v in list1 if v in list2]\n",
    "\n",
    "    print(\"total asin number {} matching number{} \".format(len(list1),len(res)))\n",
    "\n",
    "# join sales info with overall sales\n",
    "judge_asin_match(df_adv_daily,sales_daily, 'asin_k','asin_k')\n",
    "#convert time type\n",
    "sales_daily['time'] =pd.to_datetime(sales_daily['日期'], format = '%Y-%m-%d') "
   ]
  },
  {
   "cell_type": "code",
   "execution_count": 14,
   "id": "7fc04fe7",
   "metadata": {},
   "outputs": [],
   "source": [
    "# join sales\n",
    "df_daily = pd.merge(df_adv_daily,sales_daily,left_on=['RequestDate','asin_k'],right_on=['time','asin_k'],how='inner')"
   ]
  },
  {
   "cell_type": "code",
   "execution_count": 15,
   "id": "fdd9cc3f",
   "metadata": {},
   "outputs": [
    {
     "data": {
      "text/html": [
       "<div>\n",
       "<style scoped>\n",
       "    .dataframe tbody tr th:only-of-type {\n",
       "        vertical-align: middle;\n",
       "    }\n",
       "\n",
       "    .dataframe tbody tr th {\n",
       "        vertical-align: top;\n",
       "    }\n",
       "\n",
       "    .dataframe thead th {\n",
       "        text-align: right;\n",
       "    }\n",
       "</style>\n",
       "<table border=\"1\" class=\"dataframe\">\n",
       "  <thead>\n",
       "    <tr style=\"text-align: right;\">\n",
       "      <th></th>\n",
       "      <th>ID</th>\n",
       "      <th>AccountId</th>\n",
       "      <th>SiteInfoId</th>\n",
       "      <th>SiteInfoName</th>\n",
       "      <th>ItemName</th>\n",
       "      <th>ItemDescription</th>\n",
       "      <th>Quantity</th>\n",
       "      <th>OpenDate</th>\n",
       "      <th>FulfillmentChannel</th>\n",
       "      <th>Status</th>\n",
       "      <th>asin_k</th>\n",
       "    </tr>\n",
       "  </thead>\n",
       "  <tbody>\n",
       "    <tr>\n",
       "      <th>0</th>\n",
       "      <td>2014218</td>\n",
       "      <td>1029</td>\n",
       "      <td>17</td>\n",
       "      <td>AmazonUS</td>\n",
       "      <td>Air Choice Ice Maker - Portable Ice Maker Mach...</td>\n",
       "      <td>Air Choice Portable Ice Maker Machine for Coun...</td>\n",
       "      <td>0</td>\n",
       "      <td>2020-07-30 20:18:27 PDT</td>\n",
       "      <td>DEFAULT</td>\n",
       "      <td>Inactive</td>\n",
       "      <td>A31333E8-06FE-45D7-8C4E-4DF70DC7353B</td>\n",
       "    </tr>\n",
       "    <tr>\n",
       "      <th>1</th>\n",
       "      <td>2014219</td>\n",
       "      <td>1029</td>\n",
       "      <td>17</td>\n",
       "      <td>AmazonUS</td>\n",
       "      <td>Space Heater - TRUSTECH Tower Heater 1500W 70°...</td>\n",
       "      <td>&lt;b&gt;Are you still trembling in the frigid rooms...</td>\n",
       "      <td>0</td>\n",
       "      <td>2020-07-26 18:57:39 PDT</td>\n",
       "      <td>AMAZON_NA</td>\n",
       "      <td>Inactive</td>\n",
       "      <td>2CF69A1A-C895-4287-8971-AA05A7C98997</td>\n",
       "    </tr>\n",
       "    <tr>\n",
       "      <th>2</th>\n",
       "      <td>2014224</td>\n",
       "      <td>1029</td>\n",
       "      <td>17</td>\n",
       "      <td>AmazonUS</td>\n",
       "      <td>Wall Space Heater, 1500W Mica Wall Electric He...</td>\n",
       "      <td>RUSTECH space heater for indoor use, it will h...</td>\n",
       "      <td>0</td>\n",
       "      <td>2021-04-23 04:27:35 PDT</td>\n",
       "      <td>AMAZON_NA</td>\n",
       "      <td>Inactive</td>\n",
       "      <td>E417CA2D-A5DF-4E48-A46A-959D58E5969E</td>\n",
       "    </tr>\n",
       "    <tr>\n",
       "      <th>3</th>\n",
       "      <td>2014233</td>\n",
       "      <td>1029</td>\n",
       "      <td>17</td>\n",
       "      <td>AmazonUS</td>\n",
       "      <td>Space Radiant Heater - Infrared Heater,120° Os...</td>\n",
       "      <td>&lt;br&gt;&lt;b&gt;Trustech Space Infrared Heater&lt;/b&gt; &lt;br&gt;...</td>\n",
       "      <td>0</td>\n",
       "      <td>2020-12-22 23:24:47 PST</td>\n",
       "      <td>AMAZON_NA</td>\n",
       "      <td>Inactive</td>\n",
       "      <td>A5715A30-C922-4AD1-83DC-1C1636BDA31A</td>\n",
       "    </tr>\n",
       "    <tr>\n",
       "      <th>4</th>\n",
       "      <td>2014234</td>\n",
       "      <td>1029</td>\n",
       "      <td>17</td>\n",
       "      <td>AmazonUS</td>\n",
       "      <td>Electric Cooler Tower Fans</td>\n",
       "      <td>Air Cooler - Portable Tower Oscillating Fan wi...</td>\n",
       "      <td>0</td>\n",
       "      <td>2021-08-30 00:37:39 PDT</td>\n",
       "      <td>AMAZON_NA</td>\n",
       "      <td>Inactive</td>\n",
       "      <td>DD9FAA93-CC48-4BC1-A065-D59E790D576F</td>\n",
       "    </tr>\n",
       "  </tbody>\n",
       "</table>\n",
       "</div>"
      ],
      "text/plain": [
       "        ID  AccountId  SiteInfoId SiteInfoName  \\\n",
       "0  2014218       1029          17     AmazonUS   \n",
       "1  2014219       1029          17     AmazonUS   \n",
       "2  2014224       1029          17     AmazonUS   \n",
       "3  2014233       1029          17     AmazonUS   \n",
       "4  2014234       1029          17     AmazonUS   \n",
       "\n",
       "                                            ItemName  \\\n",
       "0  Air Choice Ice Maker - Portable Ice Maker Mach...   \n",
       "1  Space Heater - TRUSTECH Tower Heater 1500W 70°...   \n",
       "2  Wall Space Heater, 1500W Mica Wall Electric He...   \n",
       "3  Space Radiant Heater - Infrared Heater,120° Os...   \n",
       "4                         Electric Cooler Tower Fans   \n",
       "\n",
       "                                     ItemDescription  Quantity  \\\n",
       "0  Air Choice Portable Ice Maker Machine for Coun...         0   \n",
       "1  <b>Are you still trembling in the frigid rooms...         0   \n",
       "2  RUSTECH space heater for indoor use, it will h...         0   \n",
       "3  <br><b>Trustech Space Infrared Heater</b> <br>...         0   \n",
       "4  Air Cooler - Portable Tower Oscillating Fan wi...         0   \n",
       "\n",
       "                  OpenDate FulfillmentChannel    Status  \\\n",
       "0  2020-07-30 20:18:27 PDT            DEFAULT  Inactive   \n",
       "1  2020-07-26 18:57:39 PDT          AMAZON_NA  Inactive   \n",
       "2  2021-04-23 04:27:35 PDT          AMAZON_NA  Inactive   \n",
       "3  2020-12-22 23:24:47 PST          AMAZON_NA  Inactive   \n",
       "4  2021-08-30 00:37:39 PDT          AMAZON_NA  Inactive   \n",
       "\n",
       "                                 asin_k  \n",
       "0  A31333E8-06FE-45D7-8C4E-4DF70DC7353B  \n",
       "1  2CF69A1A-C895-4287-8971-AA05A7C98997  \n",
       "2  E417CA2D-A5DF-4E48-A46A-959D58E5969E  \n",
       "3  A5715A30-C922-4AD1-83DC-1C1636BDA31A  \n",
       "4  DD9FAA93-CC48-4BC1-A065-D59E790D576F  "
      ]
     },
     "execution_count": 15,
     "metadata": {},
     "output_type": "execute_result"
    }
   ],
   "source": [
    "product_info_1.head()"
   ]
  },
  {
   "cell_type": "code",
   "execution_count": 16,
   "id": "13fc6fb2",
   "metadata": {},
   "outputs": [
    {
     "name": "stdout",
     "output_type": "stream",
     "text": [
      "total asin number 27 matching number26 \n",
      "total asin number 27 matching number24 \n"
     ]
    }
   ],
   "source": [
    "#join sku information\n",
    "judge_asin_match(df_daily,product_info_1, 'asin_k','asin_k')\n",
    "judge_asin_match(df_daily,product_info_2, 'asin_k','asin_k')\n",
    "# join sales\n",
    "df_daily = pd.merge(df_daily,product_info_1[['ItemName','ItemDescription','asin_k']],left_on=['asin_k'],right_on=['asin_k'],how='left')\n",
    "df_daily = pd.merge(df_daily,product_info_2[['Binding','Brand','Label','ListPriceAmount','Color','asin_k','ProductGroup','ProductTypeName']],left_on=['asin_k'],right_on=['asin_k'],how='left')"
   ]
  },
  {
   "cell_type": "code",
   "execution_count": 17,
   "id": "5ce8c976",
   "metadata": {},
   "outputs": [
    {
     "name": "stderr",
     "output_type": "stream",
     "text": [
      "/home/ec2-user/anaconda3/envs/pytorch_p36/lib/python3.6/site-packages/ipykernel/__main__.py:6: SettingWithCopyWarning: \n",
      "A value is trying to be set on a copy of a slice from a DataFrame.\n",
      "Try using .loc[row_indexer,col_indexer] = value instead\n",
      "\n",
      "See the caveats in the documentation: https://pandas.pydata.org/pandas-docs/stable/user_guide/indexing.html#returning-a-view-versus-a-copy\n"
     ]
    }
   ],
   "source": [
    "#join campaign data\n",
    "#only keep campain data tha is not cancelled\n",
    "df_campaign_active = df_campaign[df_campaign['campaign_status']!='Cancelled']\n",
    "#map to multi-rows\n",
    "df_campaign_active['DATE'] = [pd.date_range(s, e, freq='d') for s, e in\n",
    "              zip(pd.to_datetime(df_campaign_active['site_start_time']), pd.to_datetime(df_campaign_active['site_end_time']))]\n",
    "\n",
    "df_campaign_active = df_campaign_active.explode('DATE').drop(['site_start_time', 'site_end_time'], axis=1)\n",
    "#join back to sales\n",
    "df_daily = pd.merge(df_daily,df_campaign_active[['campaign_type','sales_price','campaign_price','discount','DATE','asin_k']],left_on=['RequestDate','asin_k'],right_on=['DATE','asin_k'],how='left')"
   ]
  },
  {
   "cell_type": "code",
   "execution_count": 18,
   "id": "3dacaac0",
   "metadata": {},
   "outputs": [
    {
     "name": "stdout",
     "output_type": "stream",
     "text": [
      "total asin number 2823 matching number17 \n",
      "total asin number 2823 matching number1 \n"
     ]
    }
   ],
   "source": [
    "#join keywords\n",
    "# here got problem - need to check!!\n",
    "judge_asin_match(df_daily,data_keyword_old_ranking, 'Query','KeyWordName')\n",
    "judge_asin_match(df_daily,data_keyword, 'Query','KeyWordName')"
   ]
  },
  {
   "cell_type": "code",
   "execution_count": 19,
   "id": "fd1cd72d",
   "metadata": {},
   "outputs": [
    {
     "data": {
      "text/plain": [
       "Index(['ID', 'AccountId', 'RequestDate', 'CampaignName', 'CampaignId',\n",
       "       'AdGroupName', 'AdGroupId', 'TargetId', 'TargetingText',\n",
       "       'TargetingType', 'TargetingExpression', 'Query', 'Impressions',\n",
       "       'Clicks', 'Cost', 'AttributedConversions1d', 'AttributedConversions7d',\n",
       "       'AttributedConversions14d', 'AttributedConversions30d',\n",
       "       'AttributedConversions1dSameSKU', 'AttributedConversions7dSameSKU',\n",
       "       'AttributedConversions14dSameSKU', 'AttributedConversions30dSameSKU',\n",
       "       'AttributedUnitsOrdered1d', 'AttributedUnitsOrdered7d',\n",
       "       'AttributedUnitsOrdered14d', 'AttributedUnitsOrdered30d',\n",
       "       'AttributedSales1d', 'AttributedSales7d', 'AttributedSales14d',\n",
       "       'AttributedSales30d', 'AttributedSales1dSameSKU',\n",
       "       'AttributedSales7dSameSKU', 'AttributedSales14dSameSKU',\n",
       "       'AttributedSales30dSameSKU', 'AttributedUnitsOrdered1dSameSKU',\n",
       "       'AttributedUnitsOrdered7dSameSKU', 'AttributedUnitsOrdered14dSameSKU',\n",
       "       'AttributedUnitsOrdered30dSameSKU',\n",
       "       'AttributedKindleEditionNormalizedPagesRead14d',\n",
       "       'AttributedKindleEditionNormalizedPagesRoyalties14d', 'AdType',\n",
       "       'delFlag', 'asin_k', '日期', 'GMV', '成交额（去折扣后）', '销售数量', 'time',\n",
       "       'ItemName', 'ItemDescription', 'Binding', 'Brand', 'Label',\n",
       "       'ListPriceAmount', 'Color', 'ProductGroup', 'ProductTypeName',\n",
       "       'campaign_type', 'sales_price', 'campaign_price', 'discount', 'DATE'],\n",
       "      dtype='object')"
      ]
     },
     "execution_count": 19,
     "metadata": {},
     "output_type": "execute_result"
    }
   ],
   "source": [
    "df_daily.columns"
   ]
  },
  {
   "cell_type": "code",
   "execution_count": 20,
   "id": "58640c63",
   "metadata": {},
   "outputs": [
    {
     "data": {
      "text/plain": [
       "0            AIR_COOLER\n",
       "1            AIR_COOLER\n",
       "2            AIR_COOLER\n",
       "3            AIR_COOLER\n",
       "4            AIR_COOLER\n",
       "               ...     \n",
       "9410707    ELECTRIC_FAN\n",
       "9410708    ELECTRIC_FAN\n",
       "9410709    ELECTRIC_FAN\n",
       "9410710    ELECTRIC_FAN\n",
       "9410711    ELECTRIC_FAN\n",
       "Name: ProductTypeName, Length: 9410712, dtype: object"
      ]
     },
     "execution_count": 20,
     "metadata": {},
     "output_type": "execute_result"
    }
   ],
   "source": [
    "df_daily['ProductTypeName']"
   ]
  },
  {
   "cell_type": "markdown",
   "id": "382bc47f",
   "metadata": {},
   "source": [
    "# feature engineering"
   ]
  },
  {
   "cell_type": "code",
   "execution_count": 21,
   "id": "c53aa009",
   "metadata": {},
   "outputs": [
    {
     "name": "stdout",
     "output_type": "stream",
     "text": [
      "CPU times: user 68 µs, sys: 1e+03 ns, total: 69 µs\n",
      "Wall time: 74.6 µs\n"
     ]
    }
   ],
   "source": [
    "%%time\n",
    "data = df_daily.iloc[:,:]"
   ]
  },
  {
   "cell_type": "code",
   "execution_count": 22,
   "id": "a0ea4e34",
   "metadata": {},
   "outputs": [
    {
     "data": {
      "text/plain": [
       "Index(['ID', 'AccountId', 'RequestDate', 'CampaignName', 'CampaignId',\n",
       "       'AdGroupName', 'AdGroupId', 'TargetId', 'TargetingText',\n",
       "       'TargetingType', 'TargetingExpression', 'Query', 'Impressions',\n",
       "       'Clicks', 'Cost', 'AttributedConversions1d', 'AttributedConversions7d',\n",
       "       'AttributedConversions14d', 'AttributedConversions30d',\n",
       "       'AttributedConversions1dSameSKU', 'AttributedConversions7dSameSKU',\n",
       "       'AttributedConversions14dSameSKU', 'AttributedConversions30dSameSKU',\n",
       "       'AttributedUnitsOrdered1d', 'AttributedUnitsOrdered7d',\n",
       "       'AttributedUnitsOrdered14d', 'AttributedUnitsOrdered30d',\n",
       "       'AttributedSales1d', 'AttributedSales7d', 'AttributedSales14d',\n",
       "       'AttributedSales30d', 'AttributedSales1dSameSKU',\n",
       "       'AttributedSales7dSameSKU', 'AttributedSales14dSameSKU',\n",
       "       'AttributedSales30dSameSKU', 'AttributedUnitsOrdered1dSameSKU',\n",
       "       'AttributedUnitsOrdered7dSameSKU', 'AttributedUnitsOrdered14dSameSKU',\n",
       "       'AttributedUnitsOrdered30dSameSKU',\n",
       "       'AttributedKindleEditionNormalizedPagesRead14d',\n",
       "       'AttributedKindleEditionNormalizedPagesRoyalties14d', 'AdType',\n",
       "       'delFlag', 'asin_k', '日期', 'GMV', '成交额（去折扣后）', '销售数量', 'time',\n",
       "       'ItemName', 'ItemDescription', 'Binding', 'Brand', 'Label',\n",
       "       'ListPriceAmount', 'Color', 'ProductGroup', 'ProductTypeName',\n",
       "       'campaign_type', 'sales_price', 'campaign_price', 'discount', 'DATE'],\n",
       "      dtype='object')"
      ]
     },
     "execution_count": 22,
     "metadata": {},
     "output_type": "execute_result"
    }
   ],
   "source": [
    "data.columns"
   ]
  },
  {
   "cell_type": "code",
   "execution_count": 23,
   "id": "74756748",
   "metadata": {},
   "outputs": [
    {
     "name": "stdout",
     "output_type": "stream",
     "text": [
      "add time related features~!\n",
      "CPU times: user 2min 15s, sys: 2.71 s, total: 2min 18s\n",
      "Wall time: 2min 16s\n"
     ]
    }
   ],
   "source": [
    "%%time\n",
    "#data = data[~data.isin([np.nan, np.inf, -np.inf]).any(1)]\n",
    "\n",
    "print (\"add time related features~!\")\n",
    "data['weekday'] = data['RequestDate'].map(lambda x: x.dayofweek) \n",
    "data['month'] = data['RequestDate'].map(lambda x: x.month) \n",
    "#加入季节特征\n",
    "data['quarter'] =  data['RequestDate'].map(lambda x: x.quarter) \n",
    "\n",
    "\n",
    "data.rename(columns = {'销售数量':'sales',\n",
    "                       '成交额（去折扣后）':'gmv(afterdicsount)',\n",
    "                      }, inplace=True)"
   ]
  },
  {
   "cell_type": "code",
   "execution_count": 24,
   "id": "083b149b",
   "metadata": {},
   "outputs": [],
   "source": [
    "def renmame(x):\n",
    "    if x=='优惠券':\n",
    "        y =  'coupon'\n",
    "    elif x=='秒杀':\n",
    "        y = 'ms'\n",
    "    elif x=='站外折扣':\n",
    "        y = 'discount'\n",
    "    else:\n",
    "        y = ''\n",
    "    return y\n",
    "\n",
    "data['campaign_type'] = data['campaign_type'].map(lambda x:renmame(x))"
   ]
  },
  {
   "cell_type": "code",
   "execution_count": 25,
   "id": "e5ca832c",
   "metadata": {},
   "outputs": [
    {
     "data": {
      "text/plain": [
       "array(['coupon', 'ms', '', 'discount'], dtype=object)"
      ]
     },
     "execution_count": 25,
     "metadata": {},
     "output_type": "execute_result"
    }
   ],
   "source": [
    "data['campaign_type'].unique()"
   ]
  },
  {
   "cell_type": "code",
   "execution_count": 27,
   "id": "3e104db4",
   "metadata": {},
   "outputs": [
    {
     "data": {
      "text/plain": [
       "Index(['ID', 'AccountId', 'RequestDate', 'CampaignName', 'CampaignId',\n",
       "       'AdGroupName', 'AdGroupId', 'TargetId', 'TargetingText',\n",
       "       'TargetingType', 'TargetingExpression', 'Query', 'Impressions',\n",
       "       'Clicks', 'Cost', 'AttributedConversions1d', 'AttributedConversions7d',\n",
       "       'AttributedConversions14d', 'AttributedConversions30d',\n",
       "       'AttributedConversions1dSameSKU', 'AttributedConversions7dSameSKU',\n",
       "       'AttributedConversions14dSameSKU', 'AttributedConversions30dSameSKU',\n",
       "       'AttributedUnitsOrdered1d', 'AttributedUnitsOrdered7d',\n",
       "       'AttributedUnitsOrdered14d', 'AttributedUnitsOrdered30d',\n",
       "       'AttributedSales1d', 'AttributedSales7d', 'AttributedSales14d',\n",
       "       'AttributedSales30d', 'AttributedSales1dSameSKU',\n",
       "       'AttributedSales7dSameSKU', 'AttributedSales14dSameSKU',\n",
       "       'AttributedSales30dSameSKU', 'AttributedUnitsOrdered1dSameSKU',\n",
       "       'AttributedUnitsOrdered7dSameSKU', 'AttributedUnitsOrdered14dSameSKU',\n",
       "       'AttributedUnitsOrdered30dSameSKU',\n",
       "       'AttributedKindleEditionNormalizedPagesRead14d',\n",
       "       'AttributedKindleEditionNormalizedPagesRoyalties14d', 'AdType',\n",
       "       'delFlag', 'asin_k', '日期', 'GMV', 'gmv(afterdicsount)', 'sales', 'time',\n",
       "       'ItemName', 'ItemDescription', 'Binding', 'Brand', 'Label',\n",
       "       'ListPriceAmount', 'Color', 'ProductGroup', 'ProductTypeName',\n",
       "       'campaign_type', 'sales_price', 'campaign_price', 'discount', 'DATE',\n",
       "       'weekday', 'month', 'quarter'],\n",
       "      dtype='object')"
      ]
     },
     "execution_count": 27,
     "metadata": {},
     "output_type": "execute_result"
    }
   ],
   "source": [
    "data.columns"
   ]
  },
  {
   "cell_type": "code",
   "execution_count": 28,
   "id": "48b1acbf",
   "metadata": {},
   "outputs": [
    {
     "name": "stdout",
     "output_type": "stream",
     "text": [
      "<<< start get past features!\n",
      "CPU times: user 1min 1s, sys: 16.9 s, total: 1min 18s\n",
      "Wall time: 25.3 s\n"
     ]
    }
   ],
   "source": [
    "%%time\n",
    "\n",
    "def get_past_features(feature_name,data):\n",
    "    groups = data.groupby(['asin_k'])[feature_name]\n",
    "    #past n day lag feature, rolling window feature\n",
    "    for i in [1,3]:\n",
    "        data[f'Lag_{i}_{feature_name}'] = groups.shift(i)\n",
    "        data[f'rolling_sum_{i}_{feature_name}'] = groups.shift(i).rolling(i).sum().reset_index()[feature_name]\n",
    "        data[f'rolling_mean_{i}_{feature_name}'] = groups.shift(i).rolling(i).mean().reset_index()[feature_name]\n",
    "\n",
    "print (\"<<< start get past features!\")\n",
    "for i in ['GMV','sales','AttributedSales7d','AttributedConversions1d','Clicks']:\n",
    "    get_past_features(i,data)"
   ]
  },
  {
   "cell_type": "code",
   "execution_count": 29,
   "id": "7b49f484",
   "metadata": {},
   "outputs": [
    {
     "name": "stdout",
     "output_type": "stream",
     "text": [
      "<<< start get one-hot features!\n",
      "(9410712, 96) (9410712, 27)\n",
      "(9410712, 123)\n",
      "(9410712, 123) (9410712, 4)\n",
      "(9410712, 127)\n",
      "(9410712, 127) (9410712, 3)\n",
      "(9410712, 130)\n",
      "(9410712, 130) (9410712, 2)\n",
      "(9410712, 132)\n",
      "(9410712, 132) (9410712, 6)\n",
      "(9410712, 138)\n",
      "(9410712, 138) (9410712, 4)\n",
      "(9410712, 142)\n",
      "(9410712, 142) (9410712, 5)\n",
      "(9410712, 147)\n",
      "(9410712, 147) (9410712, 2)\n",
      "(9410712, 149)\n",
      "(9410712, 149) (9410712, 7)\n",
      "(9410712, 156)\n",
      "(9410712, 156) (9410712, 1)\n",
      "(9410712, 157)\n",
      "CPU times: user 3min 49s, sys: 2min 4s, total: 5min 53s\n",
      "Wall time: 3min 50s\n"
     ]
    }
   ],
   "source": [
    "%%time\n",
    "\n",
    "print (\"<<< start get one-hot features!\")\n",
    "\n",
    "\n",
    "li_sparse_features = ['asin_k','campaign_type','Binding','Brand','Label','ProductGroup','ProductTypeName','month','weekday','AdType']\n",
    "\n",
    "# 特征进行one_hot\n",
    "for feature in li_sparse_features:\n",
    "    data1 = pd.get_dummies(data[feature], prefix=feature)\n",
    "    print(data.shape, data1.shape)\n",
    "    data = pd.concat((data, data1), axis=1)\n",
    "    print(data.shape)"
   ]
  },
  {
   "cell_type": "code",
   "execution_count": 30,
   "id": "10533d51",
   "metadata": {},
   "outputs": [
    {
     "data": {
      "text/plain": [
       "Index(['ID', 'AccountId', 'RequestDate', 'CampaignName', 'CampaignId',\n",
       "       'AdGroupName', 'AdGroupId', 'TargetId', 'TargetingText',\n",
       "       'TargetingType',\n",
       "       ...\n",
       "       'month_4', 'month_5', 'weekday_0', 'weekday_1', 'weekday_2',\n",
       "       'weekday_3', 'weekday_4', 'weekday_5', 'weekday_6', 'AdType_SP'],\n",
       "      dtype='object', length=157)"
      ]
     },
     "execution_count": 30,
     "metadata": {},
     "output_type": "execute_result"
    }
   ],
   "source": [
    "data.columns"
   ]
  },
  {
   "cell_type": "code",
   "execution_count": 31,
   "id": "e184d22b",
   "metadata": {},
   "outputs": [
    {
     "name": "stdout",
     "output_type": "stream",
     "text": [
      "<<<< start drop features\n",
      "(9410712, 100)\n",
      "CPU times: user 3min 30s, sys: 5min 6s, total: 8min 36s\n",
      "Wall time: 5min 16s\n"
     ]
    }
   ],
   "source": [
    "%%time\n",
    "\n",
    "\n",
    "print (\"<<<< start drop features\")\n",
    "\n",
    "for feature in ['ID', 'AccountId', 'CampaignName', 'CampaignId',\n",
    "       'AdGroupName', 'AdGroupId', 'TargetId', 'TargetingText',\n",
    "       'TargetingType', 'TargetingExpression', 'Query', 'Impressions',\n",
    "       'AttributedConversions1d', 'Cost', 'AttributedConversions7d',\n",
    "       'AttributedConversions14d', 'AttributedConversions30d',\n",
    "       'AttributedConversions1dSameSKU', 'AttributedConversions7dSameSKU',\n",
    "       'AttributedConversions14dSameSKU', 'AttributedConversions30dSameSKU',\n",
    "       'AttributedUnitsOrdered1d', 'AttributedUnitsOrdered7d',\n",
    "       'AttributedUnitsOrdered14d', 'AttributedUnitsOrdered30d',\n",
    "       'AttributedSales1d', 'AttributedSales7d', 'AttributedSales14d',\n",
    "       'AttributedSales30d', 'AttributedSales1dSameSKU',\n",
    "       'AttributedSales7dSameSKU', 'AttributedSales14dSameSKU',\n",
    "       'AttributedSales30dSameSKU', 'AttributedUnitsOrdered1dSameSKU',\n",
    "       'AttributedUnitsOrdered7dSameSKU', 'AttributedUnitsOrdered14dSameSKU',\n",
    "       'AttributedUnitsOrdered30dSameSKU',\n",
    "       'AttributedKindleEditionNormalizedPagesRead14d',\n",
    "       'AttributedKindleEditionNormalizedPagesRoyalties14d', 'AdType',\n",
    "       'delFlag', 'asin_k', '日期', 'GMV', 'gmv(afterdicsount)', 'sales', 'time',\n",
    "       'ItemName', 'ItemDescription', 'Binding', 'Brand', 'Label'\n",
    "       , 'Color', 'ProductGroup', 'ProductTypeName',\n",
    "       'campaign_type', 'DATE']:\n",
    "    data.drop(feature, axis=1, inplace=True)\n",
    "\n",
    "print(data.shape)"
   ]
  },
  {
   "cell_type": "code",
   "execution_count": 32,
   "id": "f4b9a869",
   "metadata": {},
   "outputs": [
    {
     "data": {
      "text/plain": [
       "Index(['RequestDate', 'Clicks', 'ListPriceAmount', 'sales_price',\n",
       "       'campaign_price', 'discount', 'weekday', 'month', 'quarter',\n",
       "       'Lag_1_GMV', 'rolling_sum_1_GMV', 'rolling_mean_1_GMV', 'Lag_3_GMV',\n",
       "       'rolling_sum_3_GMV', 'rolling_mean_3_GMV', 'Lag_1_sales',\n",
       "       'rolling_sum_1_sales', 'rolling_mean_1_sales', 'Lag_3_sales',\n",
       "       'rolling_sum_3_sales', 'rolling_mean_3_sales',\n",
       "       'Lag_1_AttributedSales7d', 'rolling_sum_1_AttributedSales7d',\n",
       "       'rolling_mean_1_AttributedSales7d', 'Lag_3_AttributedSales7d',\n",
       "       'rolling_sum_3_AttributedSales7d', 'rolling_mean_3_AttributedSales7d',\n",
       "       'Lag_1_AttributedConversions1d',\n",
       "       'rolling_sum_1_AttributedConversions1d',\n",
       "       'rolling_mean_1_AttributedConversions1d',\n",
       "       'Lag_3_AttributedConversions1d',\n",
       "       'rolling_sum_3_AttributedConversions1d',\n",
       "       'rolling_mean_3_AttributedConversions1d', 'Lag_1_Clicks',\n",
       "       'rolling_sum_1_Clicks', 'rolling_mean_1_Clicks', 'Lag_3_Clicks',\n",
       "       'rolling_sum_3_Clicks', 'rolling_mean_3_Clicks',\n",
       "       'asin_k_08565C03-FFA2-4F3C-BC65-DCAEB775DA43',\n",
       "       'asin_k_28B8D04A-E34E-4A83-AC30-14224BDC2EC3',\n",
       "       'asin_k_2FFD3077-BE9F-4C11-AA27-1BF033E4AECC',\n",
       "       'asin_k_309838A2-FB75-47D8-BAD9-9CD1A688B8C2',\n",
       "       'asin_k_3608F8EA-D220-4A3F-91AD-7FB252557BC6',\n",
       "       'asin_k_41ACF7D8-3DA4-453C-BCF3-7DED68C0C67B',\n",
       "       'asin_k_64FB26B6-B3E8-495F-96BE-2EF7DB297F76',\n",
       "       'asin_k_6D2CB3B2-641F-4F3A-A590-4A71DE0F9AE7',\n",
       "       'asin_k_7B35D2BE-F7CF-4CE2-9F75-58513BE96F43',\n",
       "       'asin_k_81979F58-7394-4AAF-970E-1799AFD112EC',\n",
       "       'asin_k_8E77DD25-3E11-4A1D-AF4C-A4769E6E8898',\n",
       "       'asin_k_985D2DC5-2841-4EE1-833E-62594F73452D',\n",
       "       'asin_k_98CDEC63-B4AD-4C6A-A92B-B2DB63AF84B8',\n",
       "       'asin_k_A050D1D1-7FAD-44C8-851F-FE9E2AFC5A63',\n",
       "       'asin_k_A8673011-EFCE-41C4-9013-A0186D0DB167',\n",
       "       'asin_k_AB2D932A-AB7E-4676-B810-67FD343CCCE3',\n",
       "       'asin_k_B0711BD9-B25F-47C7-8912-7C6029AB7BE2',\n",
       "       'asin_k_BB25AD9D-A16A-48D0-A12B-3844BBCE8373',\n",
       "       'asin_k_BC56C861-3F29-4F35-9780-75DF29BABEC4',\n",
       "       'asin_k_BEDEBC04-F608-48BB-9A44-8C13E8E9EFA4',\n",
       "       'asin_k_C12C65B3-A053-41D1-A29B-52F9EC3E9676',\n",
       "       'asin_k_D9D8A75C-7EF9-4DD4-991F-E15FA1503455',\n",
       "       'asin_k_DCBA4337-8927-4DA8-A898-2C0DACAE1221',\n",
       "       'asin_k_ED47F177-2A48-4AC1-B736-A602383F9BF6',\n",
       "       'asin_k_F0E999EF-1BDD-490E-B3AE-B616CD7F1828',\n",
       "       'asin_k_F27D0580-926C-4463-897D-AC77A222706E',\n",
       "       'asin_k_F79FD39B-31C4-4143-B4DA-16F4A729F308', 'campaign_type_',\n",
       "       'campaign_type_coupon', 'campaign_type_discount', 'campaign_type_ms',\n",
       "       'Binding_Cocina', 'Binding_Home', 'Binding_Kitchen', 'Brand_Air Choice',\n",
       "       'Brand_TRUSTECH', 'Label_Air Choice',\n",
       "       'Label_NINGBO KONWIN ELECTRICAL APPLIANCE CO., LTD',\n",
       "       'Label_NINGBO KONWIN ELECTRICAL APPLIANCE CO., LTD.', 'Label_TRUSTECH',\n",
       "       'Label_Trustech',\n",
       "       'Label_Trustech NINGBO KONWIN ELECTRICAL APPLIANCE CO., LTD',\n",
       "       'ProductGroup_Home', 'ProductGroup_Home Improvement',\n",
       "       'ProductGroup_Kitchen', 'ProductGroup_Major Appliances',\n",
       "       'ProductTypeName_AIR_CONDITIONER', 'ProductTypeName_AIR_COOLER',\n",
       "       'ProductTypeName_ELECTRIC_FAN', 'ProductTypeName_HOME',\n",
       "       'ProductTypeName_SPACE_HEATER', 'month_4', 'month_5', 'weekday_0',\n",
       "       'weekday_1', 'weekday_2', 'weekday_3', 'weekday_4', 'weekday_5',\n",
       "       'weekday_6', 'AdType_SP'],\n",
       "      dtype='object')"
      ]
     },
     "execution_count": 32,
     "metadata": {},
     "output_type": "execute_result"
    }
   ],
   "source": [
    "data.columns"
   ]
  },
  {
   "cell_type": "markdown",
   "id": "26973e61",
   "metadata": {},
   "source": [
    "# model"
   ]
  },
  {
   "cell_type": "code",
   "execution_count": 34,
   "id": "ee31dc49",
   "metadata": {},
   "outputs": [
    {
     "name": "stdout",
     "output_type": "stream",
     "text": [
      "Collecting lightgbm\n",
      "  Downloading lightgbm-3.3.2-py3-none-manylinux1_x86_64.whl (2.0 MB)\n",
      "     |████████████████████████████████| 2.0 MB 22.7 MB/s            \n",
      "\u001b[?25hCollecting xgboost\n",
      "  Downloading xgboost-1.5.2-py3-none-manylinux2014_x86_64.whl (173.6 MB)\n",
      "     |████████████████████████████████| 173.6 MB 16 kB/s              \n",
      "\u001b[?25hRequirement already satisfied: scipy in /home/ec2-user/anaconda3/envs/pytorch_p36/lib/python3.6/site-packages (from lightgbm) (1.5.3)\n",
      "Requirement already satisfied: wheel in /home/ec2-user/anaconda3/envs/pytorch_p36/lib/python3.6/site-packages (from lightgbm) (0.36.2)\n",
      "Requirement already satisfied: scikit-learn!=0.22.0 in /home/ec2-user/anaconda3/envs/pytorch_p36/lib/python3.6/site-packages (from lightgbm) (0.24.2)\n",
      "Requirement already satisfied: numpy in /home/ec2-user/anaconda3/envs/pytorch_p36/lib/python3.6/site-packages (from lightgbm) (1.19.5)\n",
      "Requirement already satisfied: joblib>=0.11 in /home/ec2-user/anaconda3/envs/pytorch_p36/lib/python3.6/site-packages (from scikit-learn!=0.22.0->lightgbm) (1.0.1)\n",
      "Requirement already satisfied: threadpoolctl>=2.0.0 in /home/ec2-user/anaconda3/envs/pytorch_p36/lib/python3.6/site-packages (from scikit-learn!=0.22.0->lightgbm) (2.1.0)\n",
      "Installing collected packages: xgboost, lightgbm\n",
      "Successfully installed lightgbm-3.3.2 xgboost-1.5.2\n"
     ]
    }
   ],
   "source": [
    "!pip install lightgbm xgboost"
   ]
  },
  {
   "cell_type": "code",
   "execution_count": null,
   "id": "998740db",
   "metadata": {},
   "outputs": [
    {
     "name": "stdout",
     "output_type": "stream",
     "text": [
      "trainset shape:  (4312261, 98)\n",
      "testset shape:  (5098451, 98)\n",
      "Starting training...\n",
      "[0]\tvalidation_0-rmse:6.64012\tvalidation_0-logloss:-9.02412\tvalidation_1-rmse:2.63839\tvalidation_1-logloss:-0.81279\n",
      "[1]\tvalidation_0-rmse:6.59529\tvalidation_0-logloss:-12.75745\tvalidation_1-rmse:2.58610\tvalidation_1-logloss:-4.78177\n",
      "[2]\tvalidation_0-rmse:6.54892\tvalidation_0-logloss:-14.72778\tvalidation_1-rmse:2.53574\tvalidation_1-logloss:-8.84025\n",
      "[3]\tvalidation_0-rmse:6.50854\tvalidation_0-logloss:-17.41201\tvalidation_1-rmse:2.48461\tvalidation_1-logloss:-13.40560\n",
      "[4]\tvalidation_0-rmse:6.47044\tvalidation_0-logloss:-18.84885\tvalidation_1-rmse:2.43516\tvalidation_1-logloss:-17.99679\n",
      "[5]\tvalidation_0-rmse:6.42969\tvalidation_0-logloss:-19.98743\tvalidation_1-rmse:2.38786\tvalidation_1-logloss:-21.32024\n",
      "[6]\tvalidation_0-rmse:6.39040\tvalidation_0-logloss:-20.90487\tvalidation_1-rmse:2.34177\tvalidation_1-logloss:-21.46489\n",
      "[7]\tvalidation_0-rmse:6.35274\tvalidation_0-logloss:-21.84162\tvalidation_1-rmse:2.29231\tvalidation_1-logloss:-24.79863\n",
      "[8]\tvalidation_0-rmse:6.31510\tvalidation_0-logloss:-23.05799\tvalidation_1-rmse:2.24739\tvalidation_1-logloss:-24.85615\n",
      "[9]\tvalidation_0-rmse:6.28154\tvalidation_0-logloss:-23.16028\tvalidation_1-rmse:2.20247\tvalidation_1-logloss:-24.92938\n",
      "[10]\tvalidation_0-rmse:6.24410\tvalidation_0-logloss:-23.47396\tvalidation_1-rmse:2.15982\tvalidation_1-logloss:-25.19348\n",
      "[11]\tvalidation_0-rmse:6.21026\tvalidation_0-logloss:-26.85024\tvalidation_1-rmse:2.11506\tvalidation_1-logloss:-27.62271\n",
      "[12]\tvalidation_0-rmse:6.17840\tvalidation_0-logloss:-26.88879\tvalidation_1-rmse:2.07362\tvalidation_1-logloss:-27.65667\n",
      "[13]\tvalidation_0-rmse:6.14623\tvalidation_0-logloss:-26.93512\tvalidation_1-rmse:2.03236\tvalidation_1-logloss:-27.68672\n",
      "[14]\tvalidation_0-rmse:6.11533\tvalidation_0-logloss:-26.94667\tvalidation_1-rmse:1.99211\tvalidation_1-logloss:-27.70267\n",
      "[15]\tvalidation_0-rmse:6.08639\tvalidation_0-logloss:-26.98145\tvalidation_1-rmse:1.95270\tvalidation_1-logloss:-27.74227\n",
      "[16]\tvalidation_0-rmse:6.05686\tvalidation_0-logloss:-27.02341\tvalidation_1-rmse:1.91433\tvalidation_1-logloss:-27.78788\n",
      "[17]\tvalidation_0-rmse:6.02730\tvalidation_0-logloss:-27.27265\tvalidation_1-rmse:1.87390\tvalidation_1-logloss:-27.84984\n",
      "[18]\tvalidation_0-rmse:5.99800\tvalidation_0-logloss:-27.34196\tvalidation_1-rmse:1.83688\tvalidation_1-logloss:-27.94214\n",
      "[19]\tvalidation_0-rmse:5.97193\tvalidation_0-logloss:-27.57043\tvalidation_1-rmse:1.80132\tvalidation_1-logloss:-28.25433\n",
      "[20]\tvalidation_0-rmse:5.94752\tvalidation_0-logloss:-30.13881\tvalidation_1-rmse:1.76525\tvalidation_1-logloss:-31.68986\n",
      "[21]\tvalidation_0-rmse:5.92084\tvalidation_0-logloss:-30.14015\tvalidation_1-rmse:1.73036\tvalidation_1-logloss:-31.69082\n",
      "[22]\tvalidation_0-rmse:5.89434\tvalidation_0-logloss:-30.14232\tvalidation_1-rmse:1.69657\tvalidation_1-logloss:-31.69136\n",
      "[23]\tvalidation_0-rmse:5.86907\tvalidation_0-logloss:-30.17778\tvalidation_1-rmse:1.66350\tvalidation_1-logloss:-31.73338\n",
      "[24]\tvalidation_0-rmse:5.84434\tvalidation_0-logloss:-30.17957\tvalidation_1-rmse:1.62885\tvalidation_1-logloss:-31.73404\n",
      "[25]\tvalidation_0-rmse:5.82145\tvalidation_0-logloss:-30.18114\tvalidation_1-rmse:1.59719\tvalidation_1-logloss:-31.73439\n",
      "[26]\tvalidation_0-rmse:5.79763\tvalidation_0-logloss:-30.18693\tvalidation_1-rmse:1.56528\tvalidation_1-logloss:-31.74018\n",
      "[27]\tvalidation_0-rmse:5.77406\tvalidation_0-logloss:-30.18803\tvalidation_1-rmse:1.53524\tvalidation_1-logloss:-31.74052\n",
      "[28]\tvalidation_0-rmse:5.75162\tvalidation_0-logloss:-30.18901\tvalidation_1-rmse:1.50365\tvalidation_1-logloss:-31.74121\n",
      "[29]\tvalidation_0-rmse:5.73024\tvalidation_0-logloss:-30.19121\tvalidation_1-rmse:1.47394\tvalidation_1-logloss:-31.74187\n",
      "[30]\tvalidation_0-rmse:5.70914\tvalidation_0-logloss:-30.20193\tvalidation_1-rmse:1.44525\tvalidation_1-logloss:-31.74998\n",
      "[31]\tvalidation_0-rmse:5.68951\tvalidation_0-logloss:-30.20767\tvalidation_1-rmse:1.41666\tvalidation_1-logloss:-31.75035\n",
      "[32]\tvalidation_0-rmse:5.66983\tvalidation_0-logloss:-30.20961\tvalidation_1-rmse:1.38861\tvalidation_1-logloss:-31.75112\n",
      "[33]\tvalidation_0-rmse:5.65052\tvalidation_0-logloss:-30.21091\tvalidation_1-rmse:1.36130\tvalidation_1-logloss:-31.75143\n",
      "[34]\tvalidation_0-rmse:5.63053\tvalidation_0-logloss:-30.21257\tvalidation_1-rmse:1.33326\tvalidation_1-logloss:-31.75219\n",
      "[35]\tvalidation_0-rmse:5.61281\tvalidation_0-logloss:-30.21888\tvalidation_1-rmse:1.30672\tvalidation_1-logloss:-31.75728\n",
      "[36]\tvalidation_0-rmse:5.59636\tvalidation_0-logloss:-30.21943\tvalidation_1-rmse:1.28130\tvalidation_1-logloss:-31.75794\n",
      "[37]\tvalidation_0-rmse:5.57845\tvalidation_0-logloss:-30.22042\tvalidation_1-rmse:1.25618\tvalidation_1-logloss:-31.75876\n",
      "[38]\tvalidation_0-rmse:5.56222\tvalidation_0-logloss:-30.22105\tvalidation_1-rmse:1.23106\tvalidation_1-logloss:-31.75936\n",
      "[39]\tvalidation_0-rmse:5.54648\tvalidation_0-logloss:-30.22299\tvalidation_1-rmse:1.20730\tvalidation_1-logloss:-31.76987\n",
      "[40]\tvalidation_0-rmse:5.53004\tvalidation_0-logloss:-30.24753\tvalidation_1-rmse:1.18367\tvalidation_1-logloss:-31.84103\n",
      "[41]\tvalidation_0-rmse:5.51415\tvalidation_0-logloss:-30.24785\tvalidation_1-rmse:1.15944\tvalidation_1-logloss:-31.84131\n",
      "[42]\tvalidation_0-rmse:5.49864\tvalidation_0-logloss:-30.24862\tvalidation_1-rmse:1.13723\tvalidation_1-logloss:-31.84169\n",
      "[43]\tvalidation_0-rmse:5.48477\tvalidation_0-logloss:-30.24962\tvalidation_1-rmse:1.11468\tvalidation_1-logloss:-31.84253\n",
      "[44]\tvalidation_0-rmse:5.47011\tvalidation_0-logloss:-30.25088\tvalidation_1-rmse:1.09332\tvalidation_1-logloss:-31.84287\n",
      "[45]\tvalidation_0-rmse:5.45661\tvalidation_0-logloss:-30.25158\tvalidation_1-rmse:1.07129\tvalidation_1-logloss:-31.84373\n",
      "[46]\tvalidation_0-rmse:5.44373\tvalidation_0-logloss:-30.25843\tvalidation_1-rmse:1.05013\tvalidation_1-logloss:-31.84842\n",
      "[47]\tvalidation_0-rmse:5.43135\tvalidation_0-logloss:-30.25928\tvalidation_1-rmse:1.02962\tvalidation_1-logloss:-31.84881\n",
      "[48]\tvalidation_0-rmse:5.41918\tvalidation_0-logloss:-30.25958\tvalidation_1-rmse:1.00961\tvalidation_1-logloss:-31.84937\n",
      "[49]\tvalidation_0-rmse:5.40671\tvalidation_0-logloss:-30.26043\tvalidation_1-rmse:0.99008\tvalidation_1-logloss:-31.84986\n",
      "[50]\tvalidation_0-rmse:5.39409\tvalidation_0-logloss:-30.26068\tvalidation_1-rmse:0.97086\tvalidation_1-logloss:-31.85002\n",
      "[51]\tvalidation_0-rmse:5.38154\tvalidation_0-logloss:-30.26120\tvalidation_1-rmse:0.95038\tvalidation_1-logloss:-31.85090\n",
      "[52]\tvalidation_0-rmse:5.37010\tvalidation_0-logloss:-30.26288\tvalidation_1-rmse:0.93193\tvalidation_1-logloss:-31.85367\n",
      "[53]\tvalidation_0-rmse:5.35964\tvalidation_0-logloss:-30.27046\tvalidation_1-rmse:0.91401\tvalidation_1-logloss:-31.85952\n",
      "[54]\tvalidation_0-rmse:5.34720\tvalidation_0-logloss:-30.27124\tvalidation_1-rmse:0.89623\tvalidation_1-logloss:-31.85969\n",
      "[55]\tvalidation_0-rmse:5.33681\tvalidation_0-logloss:-30.27150\tvalidation_1-rmse:0.87867\tvalidation_1-logloss:-31.85984\n",
      "[56]\tvalidation_0-rmse:5.32691\tvalidation_0-logloss:-30.27236\tvalidation_1-rmse:0.86182\tvalidation_1-logloss:-31.86003\n",
      "[57]\tvalidation_0-rmse:5.31677\tvalidation_0-logloss:-30.27323\tvalidation_1-rmse:0.84521\tvalidation_1-logloss:-31.86042\n",
      "[58]\tvalidation_0-rmse:5.30747\tvalidation_0-logloss:-30.27348\tvalidation_1-rmse:0.82814\tvalidation_1-logloss:-31.86057\n",
      "[59]\tvalidation_0-rmse:5.29829\tvalidation_0-logloss:-30.27441\tvalidation_1-rmse:0.81267\tvalidation_1-logloss:-31.86088\n",
      "[60]\tvalidation_0-rmse:5.28826\tvalidation_0-logloss:-30.27495\tvalidation_1-rmse:0.79653\tvalidation_1-logloss:-31.86135\n",
      "[61]\tvalidation_0-rmse:5.27867\tvalidation_0-logloss:-30.28127\tvalidation_1-rmse:0.78167\tvalidation_1-logloss:-31.86599\n",
      "[62]\tvalidation_0-rmse:5.26907\tvalidation_0-logloss:-30.28171\tvalidation_1-rmse:0.76641\tvalidation_1-logloss:-31.86606\n",
      "[63]\tvalidation_0-rmse:5.26011\tvalidation_0-logloss:-30.28207\tvalidation_1-rmse:0.75116\tvalidation_1-logloss:-31.86621\n",
      "[64]\tvalidation_0-rmse:5.25122\tvalidation_0-logloss:-30.28336\tvalidation_1-rmse:0.73677\tvalidation_1-logloss:-31.86635\n",
      "[65]\tvalidation_0-rmse:5.24227\tvalidation_0-logloss:-30.28355\tvalidation_1-rmse:0.72252\tvalidation_1-logloss:-31.86651\n",
      "[66]\tvalidation_0-rmse:5.23447\tvalidation_0-logloss:-30.28445\tvalidation_1-rmse:0.70895\tvalidation_1-logloss:-31.86688\n",
      "[67]\tvalidation_0-rmse:5.22565\tvalidation_0-logloss:-30.28489\tvalidation_1-rmse:0.69515\tvalidation_1-logloss:-31.86695\n",
      "[68]\tvalidation_0-rmse:5.21811\tvalidation_0-logloss:-30.28537\tvalidation_1-rmse:0.68076\tvalidation_1-logloss:-31.86720\n",
      "[69]\tvalidation_0-rmse:5.21040\tvalidation_0-logloss:-30.28681\tvalidation_1-rmse:0.66815\tvalidation_1-logloss:-31.86727\n"
     ]
    }
   ],
   "source": [
    "import lightgbm as lgb\n",
    "import re\n",
    "\n",
    "cut_off = pd.to_datetime('2022-05-10')\n",
    "\n",
    "#data = data.rename(columns = lambda x:re.sub('[^A-Za-z0-9_]+', '', x))\n",
    "\n",
    "#rename columns\n",
    "\n",
    "data_train = data.loc[pd.to_datetime(data['RequestDate'])<cut_off]\n",
    "data_test = data.loc[pd.to_datetime(data['RequestDate'])>=cut_off]\n",
    "\n",
    "X_train = data_train.drop(['Clicks','RequestDate'], axis=1).fillna(0)\n",
    "X_test = data_test.drop(['Clicks','RequestDate'], axis=1).fillna(0)\n",
    "\n",
    "log = False\n",
    "\n",
    "if log is True:\n",
    "    y_train = np.log(data_train['Clicks'].fillna(0))\n",
    "    y_train[np.isinf(y_train)] = 0\n",
    "    y_test = np.log(data_test['Clicks'].fillna(0))\n",
    "    y_test[np.isinf(y_test)] = 0\n",
    "else:\n",
    "    y_train = data_train['Clicks'].fillna(0)\n",
    "    y_test = data_test['Clicks'].fillna(0)\n",
    "\n",
    "print (\"trainset shape: \", X_train.shape)\n",
    "print (\"testset shape: \",X_test.shape)\n",
    "\n",
    "print('Starting training...')\n",
    "# 拟合XGBoost模型\n",
    "from xgboost import XGBRegressor\n",
    "\n",
    "model = XGBRegressor(max_depth=10,\n",
    "                           n_estimators=100,\n",
    "                           min_child_weight=7.5,\n",
    "                           learning_rate=0.02,\n",
    "                           nthread=8,\n",
    "                           subsample=0.80,\n",
    "                           colsample_bytree=0.80)\n",
    "\n",
    "model.fit(X_train, y_train, eval_set=[(X_test, y_test),(X_train,y_train)], verbose=True, eval_metric=['rmse',\"logloss\"], early_stopping_rounds=100)"
   ]
  },
  {
   "cell_type": "code",
   "execution_count": 38,
   "id": "1da4b60e",
   "metadata": {},
   "outputs": [
    {
     "name": "stdout",
     "output_type": "stream",
     "text": [
      "rmse: 5.043579178310396\n",
      "error rate:  2.7642699255878505\n"
     ]
    }
   ],
   "source": [
    "from sklearn.metrics import mean_squared_error\n",
    "from math import sqrt\n",
    "import numpy as np\n",
    "\n",
    "y_pred = model.predict(X_test)\n",
    "rmse = sqrt(mean_squared_error(y_test, y_pred))\n",
    "print (\"rmse:\", rmse)\n",
    "print (\"error rate: \", rmse/np.mean(y_test))"
   ]
  },
  {
   "cell_type": "code",
   "execution_count": 40,
   "id": "55f09a52",
   "metadata": {},
   "outputs": [
    {
     "data": {
      "text/plain": [
       "<AxesSubplot:title={'center':'Feature importance'}, xlabel='F score', ylabel='Features'>"
      ]
     },
     "execution_count": 40,
     "metadata": {},
     "output_type": "execute_result"
    },
    {
     "data": {
      "image/png": "[encoded data removed]",
      "text/plain": [
       "<Figure size 432x288 with 1 Axes>"
      ]
     },
     "metadata": {
      "needs_background": "light"
     },
     "output_type": "display_data"
    }
   ],
   "source": [
    "from xgboost import plot_importance #显示特征重要性\n",
    "\n",
    "plot_importance(model,max_num_features=16)"
   ]
  },
  {
   "cell_type": "code",
   "execution_count": 101,
   "id": "5bbf9692",
   "metadata": {},
   "outputs": [
    {
     "data": {
      "text/plain": [
       "<function xgboost.plotting.plot_importance(booster, ax=None, height=0.2, xlim=None, ylim=None, title='Feature importance', xlabel='F score', ylabel='Features', fmap='', importance_type='weight', max_num_features=None, grid=True, show_values=True, **kwargs)>"
      ]
     },
     "execution_count": 101,
     "metadata": {},
     "output_type": "execute_result"
    }
   ],
   "source": [
    "plot_importance"
   ]
  },
  {
   "cell_type": "code",
   "execution_count": null,
   "id": "f111f235",
   "metadata": {},
   "outputs": [],
   "source": []
  }
 ],
 "metadata": {
  "kernelspec": {
   "display_name": "conda_pytorch_p36",
   "language": "python",
   "name": "conda_pytorch_p36"
  },
  "language_info": {
   "codemirror_mode": {
    "name": "ipython",
    "version": 3
   },
   "file_extension": ".py",
   "mimetype": "text/x-python",
   "name": "python",
   "nbconvert_exporter": "python",
   "pygments_lexer": "ipython3",
   "version": "3.6.13"
  }
 },
 "nbformat": 4,
 "nbformat_minor": 5
}
