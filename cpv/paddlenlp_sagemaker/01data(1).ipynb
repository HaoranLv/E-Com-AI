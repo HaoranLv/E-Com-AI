{
 "cells": [
  {
   "cell_type": "code",
   "execution_count": 3,
   "id": "69715157",
   "metadata": {},
   "outputs": [
    {
     "name": "stdout",
     "output_type": "stream",
     "text": [
      "Looking in indexes: https://pypi.org/simple, https://pip.repos.neuron.amazonaws.com\n",
      "Collecting jsonlines\n",
      "  Downloading jsonlines-3.1.0-py3-none-any.whl (8.6 kB)\n",
      "Requirement already satisfied: attrs>=19.2.0 in /home/ec2-user/anaconda3/envs/pytorch_p38/lib/python3.8/site-packages (from jsonlines) (21.2.0)\n",
      "Installing collected packages: jsonlines\n",
      "Successfully installed jsonlines-3.1.0\n",
      "\u001b[33mWARNING: You are using pip version 22.0.4; however, version 22.3 is available.\n",
      "You should consider upgrading via the '/home/ec2-user/anaconda3/envs/pytorch_p38/bin/python -m pip install --upgrade pip' command.\u001b[0m\u001b[33m\n",
      "\u001b[0m"
     ]
    }
   ],
   "source": [
    "!pip install jsonlines"
   ]
  },
  {
   "cell_type": "code",
   "execution_count": 7,
   "id": "4792ee47",
   "metadata": {},
   "outputs": [],
   "source": [
    "import jsonlines\n",
    "import json\n",
    "import os"
   ]
  },
  {
   "cell_type": "code",
   "execution_count": 8,
   "id": "bf111307",
   "metadata": {},
   "outputs": [
    {
     "name": "stdout",
     "output_type": "stream",
     "text": [
      "{'id': 95709, 'text': 'i bought this specifically for a 5 day vacation to colorado .', 'tags': ['O', 'O', 'O', 'O', 'O', 'O', 'B-场景-Purpose', 'I-场景-Purpose', 'I-场景-Purpose', 'I-场景-Purpose', 'I-场景-Purpose', 'O'], 'tokens': ['i', 'bought', 'this', 'specifically', 'for', 'a', '5', 'day', 'vacation', 'to', 'colorado', '.']}\n",
      "i bought this specifically for a 5 day vacation to colorado .\n",
      "{'id': 96351, 'text': 'i bought this for home initially , and it worked so well that i bought it for work too .', 'tags': ['O', 'O', 'O', 'O', 'B-场景-Purpose', 'O', 'O', 'O', 'O', 'O', 'O', 'O', 'O', 'O', 'O', 'O', 'O', 'B-场景-Purpose', 'O', 'O'], 'tokens': ['i', 'bought', 'this', 'for', 'home', 'initially', ',', 'and', 'it', 'worked', 'so', 'well', 'that', 'i', 'bought', 'it', 'for', 'work', 'too', '.']}\n",
      "i bought this for home initially , and it worked so well that i bought it for work too .\n",
      "{'id': 95654, 'text': 'works great !', 'tags': ['O', 'O', 'O'], 'tokens': ['works', 'great', '!']}\n",
      "works great !\n",
      "{'id': 96096, 'text': 'it pretty much unusable for anything but road trips .', 'tags': ['O', 'O', 'O', 'O', 'O', 'O', 'O', 'B-场景-Moment', 'I-场景-Moment', 'O'], 'tokens': ['it', 'pretty', 'much', 'unusable', 'for', 'anything', 'but', 'road', 'trips', '.']}\n",
      "it pretty much unusable for anything but road trips .\n",
      "{'id': 96531, 'text': \"the shape of this device isn 't readily available in the pictures , but it 's curved on the top and bottom which makes for very awkward placement ; you cannot set your phone on its top and whatever surface it 's sitting on makes it wobble .\", 'tags': ['O', 'O', 'O', 'O', 'O', 'O', 'O', 'O', 'O', 'O', 'O', 'O', 'O', 'O', 'O', 'O', 'O', 'O', 'O', 'O', 'O', 'O', 'O', 'O', 'O', 'O', 'O', 'O', 'O', 'O', 'O', 'O', 'O', 'O', 'O', 'O', 'O', 'O', 'O', 'O', 'O', 'O', 'O', 'O', 'O', 'O', 'O', 'O'], 'tokens': ['the', 'shape', 'of', 'this', 'device', 'isn', \"'t\", 'readily', 'available', 'in', 'the', 'pictures', ',', 'but', 'it', \"'s\", 'curved', 'on', 'the', 'top', 'and', 'bottom', 'which', 'makes', 'for', 'very', 'awkward', 'placement', ';', 'you', 'cannot', 'set', 'your', 'phone', 'on', 'its', 'top', 'and', 'whatever', 'surface', 'it', \"'s\", 'sitting', 'on', 'makes', 'it', 'wobble', '.']}\n",
      "the shape of this device isn 't readily available in the pictures , but it 's curved on the top and bottom which makes for very awkward placement ; you cannot set your phone on its top and whatever surface it 's sitting on makes it wobble .\n",
      "{'id': 96691, 'text': 'easy to install and it fits better than a glove .', 'tags': ['O', 'O', 'O', 'O', 'O', 'O', 'O', 'O', 'O', 'O', 'O'], 'tokens': ['easy', 'to', 'install', 'and', 'it', 'fits', 'better', 'than', 'a', 'glove', '.']}\n",
      "easy to install and it fits better than a glove .\n"
     ]
    }
   ],
   "source": [
    "i=0\n",
    "with jsonlines.open('../shulexv1/dev.jsonl') as reader:\n",
    "    for obj in reader:\n",
    "        i+=1\n",
    "        print(obj)\n",
    "        print(' '.join(obj['tokens']))\n",
    "        if i>5:\n",
    "            break"
   ]
  },
  {
   "cell_type": "markdown",
   "id": "f0524570",
   "metadata": {},
   "source": [
    "# str idx"
   ]
  },
  {
   "cell_type": "code",
   "execution_count": 10,
   "id": "a39097e7",
   "metadata": {},
   "outputs": [
    {
     "data": {
      "text/plain": [
       "{'in his car ( 2007 ) fast charging .': [{'text': 'car',\n",
       "   'start': 7,\n",
       "   'end': 10,\n",
       "   'prompt': 'Location of use'}]}"
      ]
     },
     "execution_count": 10,
     "metadata": {},
     "output_type": "execute_result"
    }
   ],
   "source": [
    "# zh2en={'B-场景-Where':'Where', 'B-场景-Purpose':'Purpose', 'B-场景-Moment':'Moment', 'B-场景-Who':'Who'}\n",
    "# zh2en={'B-场景-Where':'Location of use', 'B-场景-Purpose':'Purchase Intention', 'B-场景-Moment':'Time of use', 'B-场景-Who':'Target Consumer'}\n",
    "# zh2en={'B-场景-Where':'Location of use', 'B-场景-Purpose':'Reason for purchase', 'B-场景-Moment':'Usage time', 'B-场景-Who':'User'}#v4\n",
    "# zh2en={'B-场景-Where':'Location of use', 'B-场景-Purpose':'Reason for purchase', 'B-场景-Moment':'Usage Moment', 'B-场景-Who':'Buy for'}#v5\n",
    "# zh2en={'B-场景-Where':'Location of use', 'B-场景-Purpose':'Reason for purchase', 'B-场景-Moment':'Moment', 'B-场景-Who':'Who'}#v6\n",
    "zh2en={'B-场景-Where':'Location of use', 'B-场景-Purpose':'Reason for purchase', 'B-场景-Moment':'Moment', 'B-场景-Who':'Buy for'}#v7\n",
    "en2sym={'Location of use':'LOU', 'Purchase Intention':'PI', 'Time of use':'TOU', 'Target Consumer':'TC'}\n",
    "RES=[]\n",
    "num_dict={'B-场景-Where':0, 'B-场景-Purpose':0, 'B-场景-Moment':0, 'B-场景-Who':0}\n",
    "ii=0\n",
    "inp='train'\n",
    "data_path='shulexv7'\n",
    "with jsonlines.open('../shulexv1/{}.jsonl'.format(inp)) as reader:\n",
    "    if not os.path.exists(data_path):\n",
    "        os.mkdir(data_path)\n",
    "    with open(data_path+'/{}.txt'.format(inp),'w') as f:\n",
    "        for obj in reader:\n",
    "            sent=''\n",
    "            res={' '.join([' ' if i =='\\n' else i for i in obj['tokens']]):[]}\n",
    "            for i in range(len(obj['tags'])):\n",
    "                sent+=obj['tokens'][i]+' '\n",
    "                if obj['tags'][i] in ['B-场景-Who', 'B-场景-Moment', 'B-场景-Purpose', 'B-场景-Where']:\n",
    "                    start=len(sent)-len(obj['tokens'][i])-1\n",
    "                    num_dict[obj['tags'][i]]+=1\n",
    "                    r={\"text\": obj['tokens'][i], \"start\": start, \"end\": None, 'prompt':zh2en[obj['tags'][i]]}\n",
    "                    i+=1\n",
    "                    while i<len(obj['tokens']) and obj['tags'][i] in ['I-场景-Who', 'I-场景-Moment', 'I-场景-Purpose', 'I-场景-Where']:\n",
    "                        r[\"text\"]=r[\"text\"]+' '+obj['tokens'][i]\n",
    "                        sent+=obj['tokens'][i]+' '\n",
    "                        i+=1\n",
    "                    r['end']=len(sent)-1\n",
    "                    res[' '.join([' ' if i =='\\n' else i for i in obj['tokens']])].append(r)\n",
    "                    f.write(json.dumps({\"content\": ' '.join([' ' if i =='\\n' else i for i in obj['tokens']]), \"result_list\": [{\"text\": r['text'], \"start\": r['start'], \"end\": r['end']}], \"prompt\": r['prompt']}))\n",
    "#                     f.write('{\"content\": {}, \"result_list\": [{\"text\": {}, \"start\": {}, \"end\": {}}], \"prompt\": {}}'.format(' '.join([' ' if i =='\\n' else i for i in obj['tokens']]),r['text'],r['start'],r['end'],r['prompt']))\n",
    "                    f.write('\\n')\n",
    "            RES.append(res)\n",
    "#             ii+=1\n",
    "#             if ii==2:\n",
    "#                 break\n",
    "\n",
    "                \n",
    "RES[0]"
   ]
  },
  {
   "cell_type": "code",
   "execution_count": 11,
   "id": "0c69f038",
   "metadata": {},
   "outputs": [
    {
     "data": {
      "text/plain": [
       "{'B-场景-Where': 176, 'B-场景-Purpose': 131, 'B-场景-Moment': 396, 'B-场景-Who': 104}"
      ]
     },
     "execution_count": 11,
     "metadata": {},
     "output_type": "execute_result"
    }
   ],
   "source": [
    "num_dict"
   ]
  }
 ],
 "metadata": {
  "kernelspec": {
   "display_name": "conda_pytorch_p38",
   "language": "python",
   "name": "conda_pytorch_p38"
  },
  "language_info": {
   "codemirror_mode": {
    "name": "ipython",
    "version": 3
   },
   "file_extension": ".py",
   "mimetype": "text/x-python",
   "name": "python",
   "nbconvert_exporter": "python",
   "pygments_lexer": "ipython3",
   "version": "3.8.12"
  }
 },
 "nbformat": 4,
 "nbformat_minor": 5
}
