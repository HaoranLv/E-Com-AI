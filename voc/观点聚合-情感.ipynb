{
 "cells": [
  {
   "cell_type": "code",
   "execution_count": 26,
   "id": "debe1f57",
   "metadata": {},
   "outputs": [],
   "source": [
    "import pandas as pd\n",
    "import ast"
   ]
  },
  {
   "cell_type": "markdown",
   "id": "858b99b0",
   "metadata": {},
   "source": [
    "# 无监督聚类"
   ]
  },
  {
   "cell_type": "code",
   "execution_count": 27,
   "id": "238d6be5",
   "metadata": {},
   "outputs": [],
   "source": [
    "def get_df(input_file):\n",
    "    df = pd.read_csv(input_file)\n",
    "    res = []\n",
    "    for i in range(len(df)):\n",
    "        x = ast.literal_eval(df['label'][i])\n",
    "        for i in x:\n",
    "            res.append(i)\n",
    "    content = [i[0] for i in res]\n",
    "    cate = [i[1] for i in res]\n",
    "    data = pd.DataFrame({'content': content, 'cate': cate})\n",
    "    return data"
   ]
  },
  {
   "cell_type": "code",
   "execution_count": 28,
   "id": "6c93e82e",
   "metadata": {},
   "outputs": [],
   "source": [
    "input_file = '../data/good/aspect_category.csv'\n",
    "input_file_bad = '../data/bad/aspect_category.csv'\n",
    "df_good = get_df(input_file)\n",
    "df_bad = get_df(input_file_bad)\n",
    "\n",
    "data = pd.concat([df_good,df_bad]).reset_index()"
   ]
  },
  {
   "cell_type": "code",
   "execution_count": 29,
   "id": "ac4ecf3f",
   "metadata": {},
   "outputs": [
    {
     "name": "stdout",
     "output_type": "stream",
     "text": [
      "data.shape:  (5304, 3)\n"
     ]
    }
   ],
   "source": [
    "print (\"data.shape: \", data.shape)"
   ]
  },
  {
   "cell_type": "markdown",
   "id": "5aae267c",
   "metadata": {},
   "source": [
    "# kmeans"
   ]
  },
  {
   "cell_type": "code",
   "execution_count": 30,
   "id": "703bb661",
   "metadata": {},
   "outputs": [],
   "source": [
    "from transformers import AutoTokenizer, AutoModel\n",
    "import numpy as np\n",
    "import pandas as pd\n",
    "import matplotlib.pyplot as plt\n",
    "from sklearn.cluster import MiniBatchKMeans, KMeans\n",
    "from sklearn import metrics\n",
    "import os\n",
    "import torch\n",
    "from tqdm import tqdm"
   ]
  },
  {
   "cell_type": "code",
   "execution_count": 31,
   "id": "0b3171f2",
   "metadata": {},
   "outputs": [
    {
     "name": "stderr",
     "output_type": "stream",
     "text": [
      "Some weights of the model checkpoint at bert-base-uncased were not used when initializing BertModel: ['cls.predictions.transform.dense.weight', 'cls.predictions.transform.dense.bias', 'cls.predictions.bias', 'cls.seq_relationship.weight', 'cls.seq_relationship.bias', 'cls.predictions.decoder.weight', 'cls.predictions.transform.LayerNorm.weight', 'cls.predictions.transform.LayerNorm.bias']\n",
      "- This IS expected if you are initializing BertModel from the checkpoint of a model trained on another task or with another architecture (e.g. initializing a BertForSequenceClassification model from a BertForPreTraining model).\n",
      "- This IS NOT expected if you are initializing BertModel from the checkpoint of a model that you expect to be exactly identical (initializing a BertForSequenceClassification model from a BertForSequenceClassification model).\n"
     ]
    },
    {
     "name": "stdout",
     "output_type": "stream",
     "text": [
      "CPU times: user 2.24 s, sys: 461 ms, total: 2.7 s\n",
      "Wall time: 2.24 s\n"
     ]
    }
   ],
   "source": [
    "%%time\n",
    "\n",
    "\n",
    "device = torch.device(f'cuda:{0}')\n",
    "tokenizer = AutoTokenizer.from_pretrained(\"bert-base-uncased\")\n",
    "model = AutoModel.from_pretrained(\"bert-base-uncased\").to(device)"
   ]
  },
  {
   "cell_type": "code",
   "execution_count": 32,
   "id": "e5853415",
   "metadata": {},
   "outputs": [
    {
     "name": "stderr",
     "output_type": "stream",
     "text": [
      "100%|██████████| 5304/5304 [01:58<00:00, 44.85it/s]"
     ]
    },
    {
     "name": "stdout",
     "output_type": "stream",
     "text": [
      "CPU times: user 1min 37s, sys: 21.8 s, total: 1min 58s\n",
      "Wall time: 1min 58s\n"
     ]
    },
    {
     "name": "stderr",
     "output_type": "stream",
     "text": [
      "\n"
     ]
    }
   ],
   "source": [
    "%%time\n",
    "pooled_ls = []\n",
    "\n",
    "for i in tqdm(range(len(data))):\n",
    "    inputs = tokenizer(data['content'][i], padding=\"max_length\", truncation=True, max_length=56, return_tensors=\"pt\").to(device)\n",
    "    bert_output = model(**inputs)\n",
    "    pooled = bert_output.pooler_output.to(torch.device('cpu'))\n",
    "    pooled_ls.append(pooled.detach().numpy().tolist())\n",
    "    del bert_output\n",
    "    del inputs\n",
    "    del pooled\n",
    "    torch.cuda.empty_cache()"
   ]
  },
  {
   "cell_type": "code",
   "execution_count": 33,
   "id": "f77817e5",
   "metadata": {},
   "outputs": [
    {
     "name": "stdout",
     "output_type": "stream",
     "text": [
      "the data shape is 5304\n",
      "CPU times: user 264 ms, sys: 353 µs, total: 264 ms\n",
      "Wall time: 261 ms\n"
     ]
    }
   ],
   "source": [
    "%%time\n",
    "\n",
    "#pooled = bert_output.pooler_output.to(torch.device('cpu'))\n",
    "bert_df = pd.DataFrame({\"sentence\": data['content'].tolist(), \"embedding\": pooled_ls})\n",
    "df = pd.concat([data, bert_df], axis=1)\n",
    "bert_features = pd.DataFrame(pooled_ls)\n",
    "x = np.reshape(np.array(pooled_ls), (len(bert_features), 768))\n",
    "print(\"the data shape is {}\".format(len(bert_features)))"
   ]
  },
  {
   "cell_type": "code",
   "execution_count": 34,
   "id": "9d0c3351",
   "metadata": {},
   "outputs": [],
   "source": [
    "Best_K = 100\n",
    "mb_kmeans = MiniBatchKMeans(n_clusters=Best_K)\n",
    "y_pred = mb_kmeans.fit_predict(x)"
   ]
  },
  {
   "cell_type": "code",
   "execution_count": 35,
   "id": "c86e8a4d",
   "metadata": {},
   "outputs": [],
   "source": [
    "# 保存聚类结果\n",
    "feat_names_Kmeans = \"Kmeans_\" + str(Best_K)\n",
    "train_kmeans = pd.concat([pd.Series(name=feat_names_Kmeans, data=y_pred), df], axis=1)"
   ]
  },
  {
   "cell_type": "code",
   "execution_count": 36,
   "id": "c87fe220",
   "metadata": {},
   "outputs": [
    {
     "data": {
      "text/html": [
       "<div>\n",
       "<style scoped>\n",
       "    .dataframe tbody tr th:only-of-type {\n",
       "        vertical-align: middle;\n",
       "    }\n",
       "\n",
       "    .dataframe tbody tr th {\n",
       "        vertical-align: top;\n",
       "    }\n",
       "\n",
       "    .dataframe thead th {\n",
       "        text-align: right;\n",
       "    }\n",
       "</style>\n",
       "<table border=\"1\" class=\"dataframe\">\n",
       "  <thead>\n",
       "    <tr style=\"text-align: right;\">\n",
       "      <th></th>\n",
       "      <th>Kmeans_100</th>\n",
       "      <th>index</th>\n",
       "      <th>content</th>\n",
       "      <th>cate</th>\n",
       "      <th>sentence</th>\n",
       "      <th>embedding</th>\n",
       "    </tr>\n",
       "  </thead>\n",
       "  <tbody>\n",
       "    <tr>\n",
       "      <th>0</th>\n",
       "      <td>74</td>\n",
       "      <td>0</td>\n",
       "      <td>comfortable</td>\n",
       "      <td>feelings</td>\n",
       "      <td>comfortable</td>\n",
       "      <td>[[-0.7401604056358337, -0.07353582978248596, 0...</td>\n",
       "    </tr>\n",
       "    <tr>\n",
       "      <th>1</th>\n",
       "      <td>24</td>\n",
       "      <td>1</td>\n",
       "      <td>being able to put your phone in your pocket</td>\n",
       "      <td>expectancy</td>\n",
       "      <td>being able to put your phone in your pocket</td>\n",
       "      <td>[[-0.9051737785339355, -0.4930358827114105, -0...</td>\n",
       "    </tr>\n",
       "    <tr>\n",
       "      <th>2</th>\n",
       "      <td>84</td>\n",
       "      <td>2</td>\n",
       "      <td>green color was perfect</td>\n",
       "      <td>color</td>\n",
       "      <td>green color was perfect</td>\n",
       "      <td>[[-0.8602860569953918, -0.16006290912628174, -...</td>\n",
       "    </tr>\n",
       "    <tr>\n",
       "      <th>3</th>\n",
       "      <td>37</td>\n",
       "      <td>3</td>\n",
       "      <td>running</td>\n",
       "      <td>scene</td>\n",
       "      <td>running</td>\n",
       "      <td>[[-0.6941463947296143, -0.09636484086513519, 0...</td>\n",
       "    </tr>\n",
       "    <tr>\n",
       "      <th>4</th>\n",
       "      <td>70</td>\n",
       "      <td>4</td>\n",
       "      <td>have the black ones</td>\n",
       "      <td>purchase_behavior</td>\n",
       "      <td>have the black ones</td>\n",
       "      <td>[[-0.8123378753662109, -0.17152729630470276, 0...</td>\n",
       "    </tr>\n",
       "  </tbody>\n",
       "</table>\n",
       "</div>"
      ],
      "text/plain": [
       "   Kmeans_100  index                                      content  \\\n",
       "0          74      0                                  comfortable   \n",
       "1          24      1  being able to put your phone in your pocket   \n",
       "2          84      2                      green color was perfect   \n",
       "3          37      3                                      running   \n",
       "4          70      4                          have the black ones   \n",
       "\n",
       "                cate                                     sentence  \\\n",
       "0           feelings                                  comfortable   \n",
       "1         expectancy  being able to put your phone in your pocket   \n",
       "2              color                      green color was perfect   \n",
       "3              scene                                      running   \n",
       "4  purchase_behavior                          have the black ones   \n",
       "\n",
       "                                           embedding  \n",
       "0  [[-0.7401604056358337, -0.07353582978248596, 0...  \n",
       "1  [[-0.9051737785339355, -0.4930358827114105, -0...  \n",
       "2  [[-0.8602860569953918, -0.16006290912628174, -...  \n",
       "3  [[-0.6941463947296143, -0.09636484086513519, 0...  \n",
       "4  [[-0.8123378753662109, -0.17152729630470276, 0...  "
      ]
     },
     "execution_count": 36,
     "metadata": {},
     "output_type": "execute_result"
    }
   ],
   "source": [
    "train_kmeans.head()"
   ]
  },
  {
   "cell_type": "code",
   "execution_count": 37,
   "id": "270ac60e",
   "metadata": {},
   "outputs": [],
   "source": [
    "# output result \n",
    "res_ls = []\n",
    "num = []\n",
    "cate_ls = []\n",
    "normed_key = []\n",
    "for i in range(Best_K):\n",
    "    num.append(i)\n",
    "    x = train_kmeans[train_kmeans[feat_names_Kmeans]==i]['sentence'].unique().tolist()\n",
    "    cate_ls.append(train_kmeans[train_kmeans[feat_names_Kmeans]==i]['cate'].tolist()[0])\n",
    "    try:\n",
    "        normed_key.append(x[0])\n",
    "    except:\n",
    "        normed_key.append(\"null\")\n",
    "    res_ls.append(x)\n",
    "\n",
    "df_res = pd.DataFrame({'number': num,'normed_word': normed_key,'sentences': res_ls, 'cate':cate_ls})\n",
    "df_res = df_res[df_res['normed_word']!='null']"
   ]
  },
  {
   "cell_type": "code",
   "execution_count": 38,
   "id": "e796bb58",
   "metadata": {},
   "outputs": [],
   "source": [
    "df_res.to_csv(\"raw_data_clustered.csv\", index=False)"
   ]
  },
  {
   "cell_type": "code",
   "execution_count": 40,
   "id": "285fc47c",
   "metadata": {},
   "outputs": [],
   "source": [
    "#keys to center\n",
    "df_key_dict = df_res[['normed_word','cate']].drop_duplicates()\n",
    "df_key_dict.to_csv('key.csv',index = False)"
   ]
  },
  {
   "cell_type": "code",
   "execution_count": 42,
   "id": "e81ad67f",
   "metadata": {},
   "outputs": [
    {
     "data": {
      "text/html": [
       "<div>\n",
       "<style scoped>\n",
       "    .dataframe tbody tr th:only-of-type {\n",
       "        vertical-align: middle;\n",
       "    }\n",
       "\n",
       "    .dataframe tbody tr th {\n",
       "        vertical-align: top;\n",
       "    }\n",
       "\n",
       "    .dataframe thead th {\n",
       "        text-align: right;\n",
       "    }\n",
       "</style>\n",
       "<table border=\"1\" class=\"dataframe\">\n",
       "  <thead>\n",
       "    <tr style=\"text-align: right;\">\n",
       "      <th></th>\n",
       "      <th>normed_word</th>\n",
       "      <th>cate</th>\n",
       "    </tr>\n",
       "  </thead>\n",
       "  <tbody>\n",
       "    <tr>\n",
       "      <th>0</th>\n",
       "      <td>squeeze my waist so tight</td>\n",
       "      <td>size</td>\n",
       "    </tr>\n",
       "    <tr>\n",
       "      <th>1</th>\n",
       "      <td>fit perfectly!</td>\n",
       "      <td>size</td>\n",
       "    </tr>\n",
       "    <tr>\n",
       "      <th>10</th>\n",
       "      <td>fit well</td>\n",
       "      <td>size</td>\n",
       "    </tr>\n",
       "    <tr>\n",
       "      <th>17</th>\n",
       "      <td>They are longer in the leg and higher in the w...</td>\n",
       "      <td>size</td>\n",
       "    </tr>\n",
       "    <tr>\n",
       "      <th>19</th>\n",
       "      <td>fit true to size</td>\n",
       "      <td>size</td>\n",
       "    </tr>\n",
       "    <tr>\n",
       "      <th>21</th>\n",
       "      <td>great for my legs</td>\n",
       "      <td>size</td>\n",
       "    </tr>\n",
       "    <tr>\n",
       "      <th>29</th>\n",
       "      <td>length is really good</td>\n",
       "      <td>size</td>\n",
       "    </tr>\n",
       "    <tr>\n",
       "      <th>31</th>\n",
       "      <td>The fit is really flattering too</td>\n",
       "      <td>size</td>\n",
       "    </tr>\n",
       "    <tr>\n",
       "      <th>32</th>\n",
       "      <td>is tight in a good way and very comfy</td>\n",
       "      <td>size</td>\n",
       "    </tr>\n",
       "    <tr>\n",
       "      <th>34</th>\n",
       "      <td>fit fine</td>\n",
       "      <td>size</td>\n",
       "    </tr>\n",
       "    <tr>\n",
       "      <th>36</th>\n",
       "      <td>re not too short</td>\n",
       "      <td>size</td>\n",
       "    </tr>\n",
       "    <tr>\n",
       "      <th>44</th>\n",
       "      <td>be a little short</td>\n",
       "      <td>size</td>\n",
       "    </tr>\n",
       "    <tr>\n",
       "      <th>51</th>\n",
       "      <td>perfect fit</td>\n",
       "      <td>size</td>\n",
       "    </tr>\n",
       "    <tr>\n",
       "      <th>58</th>\n",
       "      <td>fit</td>\n",
       "      <td>size</td>\n",
       "    </tr>\n",
       "  </tbody>\n",
       "</table>\n",
       "</div>"
      ],
      "text/plain": [
       "                                          normed_word  cate\n",
       "0                           squeeze my waist so tight  size\n",
       "1                                      fit perfectly!  size\n",
       "10                                           fit well  size\n",
       "17  They are longer in the leg and higher in the w...  size\n",
       "19                                   fit true to size  size\n",
       "21                                  great for my legs  size\n",
       "29                              length is really good  size\n",
       "31                   The fit is really flattering too  size\n",
       "32              is tight in a good way and very comfy  size\n",
       "34                                           fit fine  size\n",
       "36                                   re not too short  size\n",
       "44                                  be a little short  size\n",
       "51                                        perfect fit  size\n",
       "58                                                fit  size"
      ]
     },
     "execution_count": 42,
     "metadata": {},
     "output_type": "execute_result"
    }
   ],
   "source": [
    "df_key_dict[df_key_dict['cate']=='size']"
   ]
  },
  {
   "cell_type": "markdown",
   "id": "61017d82",
   "metadata": {},
   "source": [
    "## func to normalize & extract feelings"
   ]
  },
  {
   "cell_type": "code",
   "execution_count": 47,
   "id": "c5211bce",
   "metadata": {},
   "outputs": [],
   "source": [
    "input = (\"fit well\", \"size\")\n",
    "df_keys = pd.read_csv('key.csv')\n",
    "key_ls = df_keys[df_keys['cate']==input[1]]['normed_word'].tolist()"
   ]
  },
  {
   "cell_type": "code",
   "execution_count": 48,
   "id": "57c23dc1",
   "metadata": {},
   "outputs": [
    {
     "data": {
      "text/plain": [
       "['squeeze my waist so tight',\n",
       " 'fit perfectly!',\n",
       " 'fit well',\n",
       " 'They are longer in the leg and higher in the waist',\n",
       " 'fit true to size',\n",
       " 'great for my legs',\n",
       " 'length is really good',\n",
       " 'The fit is really flattering too',\n",
       " 'is tight in a good way and very comfy',\n",
       " 'fit fine',\n",
       " 're not too short',\n",
       " 'be a little short',\n",
       " 'perfect fit',\n",
       " 'fit']"
      ]
     },
     "execution_count": 48,
     "metadata": {},
     "output_type": "execute_result"
    }
   ],
   "source": [
    "key_ls"
   ]
  },
  {
   "cell_type": "code",
   "execution_count": null,
   "id": "4a059e01",
   "metadata": {},
   "outputs": [],
   "source": []
  },
  {
   "cell_type": "code",
   "execution_count": null,
   "id": "605ab3e0",
   "metadata": {},
   "outputs": [],
   "source": []
  }
 ],
 "metadata": {
  "kernelspec": {
   "display_name": "conda_pytorch_p38",
   "language": "python",
   "name": "conda_pytorch_p38"
  },
  "language_info": {
   "codemirror_mode": {
    "name": "ipython",
    "version": 3
   },
   "file_extension": ".py",
   "mimetype": "text/x-python",
   "name": "python",
   "nbconvert_exporter": "python",
   "pygments_lexer": "ipython3",
   "version": "3.8.12"
  }
 },
 "nbformat": 4,
 "nbformat_minor": 5
}
